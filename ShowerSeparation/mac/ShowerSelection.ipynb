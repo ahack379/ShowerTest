{
 "cells": [
  {
   "cell_type": "code",
   "execution_count": 1,
   "metadata": {
    "collapsed": true
   },
   "outputs": [],
   "source": [
    "%matplotlib inline\n",
    "#%pylab\n",
    "import matplotlib\n",
    "import matplotlib.pyplot as plt\n",
    "import matplotlib.colors as mpc\n",
    "import matplotlib.dates as dts\n",
    "import numpy as np\n",
    "import pandas as pd\n",
    "import itertools\n",
    "import os\n",
    "import ROOT\n",
    "import datetime\n",
    "from root_numpy import root2array, root2rec, tree2rec, array2root\n",
    "from scipy.optimize import curve_fit\n",
    "from scipy.misc import factorial\n",
    "plt.rcParams.update({'font.size': 16})"
   ]
  },
  {
   "cell_type": "code",
   "execution_count": 2,
   "metadata": {
    "collapsed": false
   },
   "outputs": [
    {
     "name": "stderr",
     "output_type": "stream",
     "text": [
      "/Users/ah673/Library/Python/2.7/lib/python/site-packages/root_numpy/_tree.py:423: DeprecationWarning: tree2rec is deprecated and will be removed in 5.0.0. Instead use tree2array(...).view(np.recarray)\n",
      "  DeprecationWarning)\n"
     ]
    },
    {
     "ename": "TypeError",
     "evalue": "tree must be a ROOT.TTree",
     "output_type": "error",
     "traceback": [
      "\u001b[0;31m---------------------------------------------------------------------------\u001b[0m",
      "\u001b[0;31mTypeError\u001b[0m                                 Traceback (most recent call last)",
      "\u001b[0;32m<ipython-input-2-92453c6db0a3>\u001b[0m in \u001b[0;36m<module>\u001b[0;34m()\u001b[0m\n\u001b[1;32m      1\u001b[0m \u001b[0mf\u001b[0m \u001b[0;34m=\u001b[0m \u001b[0mROOT\u001b[0m\u001b[0;34m.\u001b[0m\u001b[0mTFile\u001b[0m\u001b[0;34m(\u001b[0m\u001b[0;34m'showerselection.root'\u001b[0m\u001b[0;34m)\u001b[0m\u001b[0;34m\u001b[0m\u001b[0m\n\u001b[1;32m      2\u001b[0m \u001b[0mt\u001b[0m \u001b[0;34m=\u001b[0m \u001b[0mf\u001b[0m\u001b[0;34m.\u001b[0m\u001b[0mGet\u001b[0m\u001b[0;34m(\u001b[0m\u001b[0;34m'_tree'\u001b[0m\u001b[0;34m)\u001b[0m\u001b[0;34m\u001b[0m\u001b[0m\n\u001b[0;32m----> 3\u001b[0;31m \u001b[0mdf\u001b[0m \u001b[0;34m=\u001b[0m \u001b[0mpd\u001b[0m\u001b[0;34m.\u001b[0m\u001b[0mDataFrame\u001b[0m\u001b[0;34m(\u001b[0m\u001b[0mtree2rec\u001b[0m\u001b[0;34m(\u001b[0m\u001b[0mt\u001b[0m\u001b[0;34m,\u001b[0m\u001b[0mbranches\u001b[0m\u001b[0;34m=\u001b[0m\u001b[0;34m[\u001b[0m\u001b[0;34m'_pi0_energy'\u001b[0m\u001b[0;34m,\u001b[0m\u001b[0;34m'_clus_nhits_v'\u001b[0m\u001b[0;34m,\u001b[0m\u001b[0;34m'_clus_vtxdist_v'\u001b[0m\u001b[0;34m,\u001b[0m\u001b[0;34m'_clus_plane_v'\u001b[0m\u001b[0;34m]\u001b[0m\u001b[0;34m)\u001b[0m\u001b[0;34m)\u001b[0m\u001b[0;34m\u001b[0m\u001b[0m\n\u001b[0m",
      "\u001b[0;32m/Users/ah673/Library/Python/2.7/lib/python/site-packages/root_numpy/_tree.pyc\u001b[0m in \u001b[0;36mtree2rec\u001b[0;34m(tree, branches, selection, object_selection, start, stop, step, include_weight, weight_name, cache_size)\u001b[0m\n\u001b[1;32m    431\u001b[0m                       \u001b[0minclude_weight\u001b[0m\u001b[0;34m=\u001b[0m\u001b[0minclude_weight\u001b[0m\u001b[0;34m,\u001b[0m\u001b[0;34m\u001b[0m\u001b[0m\n\u001b[1;32m    432\u001b[0m                       \u001b[0mweight_name\u001b[0m\u001b[0;34m=\u001b[0m\u001b[0mweight_name\u001b[0m\u001b[0;34m,\u001b[0m\u001b[0;34m\u001b[0m\u001b[0m\n\u001b[0;32m--> 433\u001b[0;31m                       cache_size=cache_size).view(np.recarray)\n\u001b[0m\u001b[1;32m    434\u001b[0m \u001b[0;34m\u001b[0m\u001b[0m\n\u001b[1;32m    435\u001b[0m \u001b[0;34m\u001b[0m\u001b[0m\n",
      "\u001b[0;32m/Users/ah673/Library/Python/2.7/lib/python/site-packages/root_numpy/_tree.pyc\u001b[0m in \u001b[0;36mtree2array\u001b[0;34m(tree, branches, selection, object_selection, start, stop, step, include_weight, weight_name, cache_size)\u001b[0m\n\u001b[1;32m    368\u001b[0m     \u001b[0;32mimport\u001b[0m \u001b[0mROOT\u001b[0m\u001b[0;34m\u001b[0m\u001b[0m\n\u001b[1;32m    369\u001b[0m     \u001b[0;32mif\u001b[0m \u001b[0;32mnot\u001b[0m \u001b[0misinstance\u001b[0m\u001b[0;34m(\u001b[0m\u001b[0mtree\u001b[0m\u001b[0;34m,\u001b[0m \u001b[0mROOT\u001b[0m\u001b[0;34m.\u001b[0m\u001b[0mTTree\u001b[0m\u001b[0;34m)\u001b[0m\u001b[0;34m:\u001b[0m\u001b[0;34m\u001b[0m\u001b[0m\n\u001b[0;32m--> 370\u001b[0;31m         \u001b[0;32mraise\u001b[0m \u001b[0mTypeError\u001b[0m\u001b[0;34m(\u001b[0m\u001b[0;34m\"tree must be a ROOT.TTree\"\u001b[0m\u001b[0;34m)\u001b[0m\u001b[0;34m\u001b[0m\u001b[0m\n\u001b[0m\u001b[1;32m    371\u001b[0m     \u001b[0mcobj\u001b[0m \u001b[0;34m=\u001b[0m \u001b[0mROOT\u001b[0m\u001b[0;34m.\u001b[0m\u001b[0mAsCObject\u001b[0m\u001b[0;34m(\u001b[0m\u001b[0mtree\u001b[0m\u001b[0;34m)\u001b[0m\u001b[0;34m\u001b[0m\u001b[0m\n\u001b[1;32m    372\u001b[0m \u001b[0;34m\u001b[0m\u001b[0m\n",
      "\u001b[0;31mTypeError\u001b[0m: tree must be a ROOT.TTree"
     ]
    }
   ],
   "source": [
    "f = ROOT.TFile('showerselection.root')\n",
    "t = f.Get('_tree')\n",
    "df = pd.DataFrame(tree2rec(t,branches=['_pi0_energy','_clus_nhits_v','_clus_vtxdist_v','_clus_plane_v']))"
   ]
  },
  {
   "cell_type": "code",
   "execution_count": null,
   "metadata": {
    "collapsed": true
   },
   "outputs": [],
   "source": [
    "def Nclusters(x,radmax=100,nhitsmax=100):\n",
    "    clus_nhits   = x['_clus_nhits_v']\n",
    "    clus_vtxdist = x['_clus_vtxdist_v']\n",
    "    clus_plane   = x['_clus_plane_v']\n",
    "    nclus = 0\n",
    "    ntot  = 0\n",
    "    for i in xrange(len(clus_plane)):\n",
    "        if (clus_plane[i] != 2 ):\n",
    "            continue\n",
    "        ntot += 1\n",
    "        nhits = clus_nhits[i]\n",
    "        vtxd  = np.sqrt(clus_vtxdist[i])\n",
    "        if (vtxd < radmax and nhits < nhitsmax and nhits > 3):\n",
    "            nclus += 1\n",
    "    #if (ntot == 0): return -1\n",
    "    return nclus#/float(ntot)"
   ]
  },
  {
   "cell_type": "code",
   "execution_count": 72,
   "metadata": {
    "collapsed": false
   },
   "outputs": [],
   "source": [
    "df['nclus'] = df.apply(lambda x : Nclusters(x,radmax=100,nhitsmax=30), axis=1)"
   ]
  },
  {
   "cell_type": "code",
   "execution_count": 82,
   "metadata": {
    "collapsed": false
   },
   "outputs": [
    {
     "name": "stdout",
     "output_type": "stream",
     "text": [
      "Pi0 sample :  (6004, 5)\n",
      "Trk sample :  (53921, 5)\n"
     ]
    }
   ],
   "source": [
    "df_pi0 = df.query('_pi0_energy > .20')\n",
    "print 'Pi0 sample : ',df_pi0.shape\n",
    "df_trk = df.query('_pi0_energy < .20')\n",
    "print 'Trk sample : ',df_trk.shape"
   ]
  },
  {
   "cell_type": "code",
   "execution_count": 87,
   "metadata": {
    "collapsed": false
   },
   "outputs": [
    {
     "name": "stdout",
     "output_type": "stream",
     "text": [
      "6004\n",
      "53921\n"
     ]
    },
    {
     "data": {
      "image/png": "[encoded data removed]",
      "text/plain": [
       "<matplotlib.figure.Figure at 0x7fe3daed0a90>"
      ]
     },
     "metadata": {},
     "output_type": "display_data"
    }
   ],
   "source": [
    "fig = plt.figure(figsize=(8,8))\n",
    "\n",
    "nclus_pi0 = df_pi0['nclus'].values\n",
    "nclus_trk = df_trk['nclus'].values\n",
    "\n",
    "print len(nclus_pi0)\n",
    "print len(nclus_trk)\n",
    "\n",
    "NMAX = 20\n",
    "\n",
    "BINS = np.linspace(0,NMAX,NMAX+1)\n",
    "#BINS = np.linspace(0,0.5,NMAX+1)\n",
    "\n",
    "NORM = False\n",
    "\n",
    "plt.hist(nclus_pi0,bins=BINS,histtype='stepfilled',alpha=0.5,color='b',label='$\\pi^0$',normed=NORM)\n",
    "plt.hist(nclus_trk,bins=BINS,histtype='stepfilled',alpha=0.5,color='r',label='trk',normed=NORM)\n",
    "\n",
    "plt.xlabel('Number of Small Clusters Close to Vtx')\n",
    "plt.grid()\n",
    "#plt.yscale('log')\n",
    "plt.legend()\n",
    "plt.show()"
   ]
  },
  {
   "cell_type": "code",
   "execution_count": null,
   "metadata": {
    "collapsed": true
   },
   "outputs": [],
   "source": []
  }
 ],
 "metadata": {
  "kernelspec": {
   "display_name": "Python 2",
   "language": "python",
   "name": "python2"
  },
  "language_info": {
   "codemirror_mode": {
    "name": "ipython",
    "version": 2
   },
   "file_extension": ".py",
   "mimetype": "text/x-python",
   "name": "python",
   "nbconvert_exporter": "python",
   "pygments_lexer": "ipython2",
   "version": "2.7.10"
  }
 },
 "nbformat": 4,
 "nbformat_minor": 0
}
