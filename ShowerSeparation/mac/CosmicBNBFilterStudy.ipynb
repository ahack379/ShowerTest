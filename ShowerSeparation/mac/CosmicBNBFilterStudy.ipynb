{
 "cells": [
  {
   "cell_type": "code",
   "execution_count": 3,
   "metadata": {
    "collapsed": false
   },
   "outputs": [],
   "source": [
    "import ROOT\n",
    "from ROOT import larlite\n",
    "from ROOT import TFile\n",
    "import numpy as np\n",
    "import matplotlib.pyplot as plt\n",
    "import scipy.misc as smp\n",
    "%matplotlib inline"
   ]
  },
  {
   "cell_type": "code",
   "execution_count": 4,
   "metadata": {
    "collapsed": false
   },
   "outputs": [
    {
     "ename": "AttributeError",
     "evalue": "TFile object has no attribute 'tree'",
     "output_type": "error",
     "traceback": [
      "\u001b[0;31m------------------------------------------------------------------------\u001b[0m",
      "\u001b[0;31mAttributeError\u001b[0m                         Traceback (most recent call last)",
      "\u001b[0;32m<ipython-input-4-cc57c3e0c057>\u001b[0m in \u001b[0;36m<module>\u001b[0;34m()\u001b[0m\n\u001b[1;32m     19\u001b[0m \u001b[0mrad_all\u001b[0m  \u001b[0;34m=\u001b[0m \u001b[0;34m[\u001b[0m\u001b[0mrad_inc\u001b[0m\u001b[0;34m*\u001b[0m\u001b[0;34m(\u001b[0m\u001b[0mi\u001b[0m\u001b[0;34m+\u001b[0m\u001b[0;36m1\u001b[0m\u001b[0;34m)\u001b[0m \u001b[0;32mfor\u001b[0m \u001b[0mi\u001b[0m \u001b[0;32min\u001b[0m \u001b[0mxrange\u001b[0m\u001b[0;34m(\u001b[0m\u001b[0;36m0\u001b[0m\u001b[0;34m,\u001b[0m\u001b[0mn_rads\u001b[0m\u001b[0;34m)\u001b[0m\u001b[0;34m]\u001b[0m\u001b[0;34m\u001b[0m\u001b[0m\n\u001b[1;32m     20\u001b[0m \u001b[0;34m\u001b[0m\u001b[0m\n\u001b[0;32m---> 21\u001b[0;31m \u001b[0ms_evts\u001b[0m \u001b[0;34m=\u001b[0m \u001b[0mf_s\u001b[0m\u001b[0;34m.\u001b[0m\u001b[0mtree\u001b[0m\u001b[0;34m.\u001b[0m\u001b[0mGetEntries\u001b[0m\u001b[0;34m(\u001b[0m\u001b[0;34m)\u001b[0m\u001b[0;34m\u001b[0m\u001b[0m\n\u001b[0m\u001b[1;32m     22\u001b[0m \u001b[0mt_evts\u001b[0m \u001b[0;34m=\u001b[0m \u001b[0mf_t\u001b[0m\u001b[0;34m.\u001b[0m\u001b[0mtree\u001b[0m\u001b[0;34m.\u001b[0m\u001b[0mGetEntries\u001b[0m\u001b[0;34m(\u001b[0m\u001b[0;34m)\u001b[0m\u001b[0;34m\u001b[0m\u001b[0m\n\u001b[1;32m     23\u001b[0m \u001b[0;34m\u001b[0m\u001b[0m\n",
      "\u001b[0;31mAttributeError\u001b[0m: TFile object has no attribute 'tree'"
     ]
    }
   ],
   "source": [
    "f_s = TFile(\"MCC7CorsikaCosmicXYZ_dens.root\",\"READ\")\n",
    "f_t = TFile(\"DataCosmicXYZ_dens.root\",\"READ\")\n",
    "\n",
    "#V2 contains results from running first 3 python scriptfrom DC's area\n",
    "n_rads = 15\n",
    "rad_inc = 5\n",
    "\n",
    "dens_all = [] \n",
    "hits_sh = []\n",
    "hits_tr = []\n",
    "sx = []\n",
    "sy = []\n",
    "sz = []\n",
    "\n",
    "tx = []\n",
    "ty = []\n",
    "tz = []\n",
    "\n",
    "rad_all  = [rad_inc*(i+1) for i in xrange(0,n_rads)]\n",
    "\n",
    "s_evts = f_s.tree.GetEntries()\n",
    "t_evts = f_t.tree.GetEntries()\n",
    "\n",
    "cut = 60\n",
    "print s_evts, t_evts"
   ]
  },
  {
   "cell_type": "code",
   "execution_count": null,
   "metadata": {
    "collapsed": false
   },
   "outputs": [],
   "source": [
    "f_s = TFile(\"dens_mcc8_bnb_cos_pi0.root\",\"READ\")\n",
    "f_t = TFile(\"dens_mcc8_bnb_cos_trk.root\",\"READ\")\n",
    "\n",
    "\n",
    "\n",
    "s_evts = f_s.tree.GetEntries()\n",
    "t_evts = f_t.tree.GetEntries()"
   ]
  },
  {
   "cell_type": "code",
   "execution_count": 2,
   "metadata": {
    "collapsed": false
   },
   "outputs": [
    {
     "ename": "AttributeError",
     "evalue": "TFile object has no attribute 'tree'",
     "output_type": "error",
     "traceback": [
      "\u001b[0;31m------------------------------------------------------------------------\u001b[0m",
      "\u001b[0;31mAttributeError\u001b[0m                         Traceback (most recent call last)",
      "\u001b[0;32m<ipython-input-2-83654bf07008>\u001b[0m in \u001b[0;36m<module>\u001b[0;34m()\u001b[0m\n\u001b[1;32m      2\u001b[0m \u001b[0mf_t\u001b[0m \u001b[0;34m=\u001b[0m \u001b[0mTFile\u001b[0m\u001b[0;34m(\u001b[0m\u001b[0;34m\"DataCosmicXYZ_dens.root\"\u001b[0m\u001b[0;34m,\u001b[0m\u001b[0;34m\"READ\"\u001b[0m\u001b[0;34m)\u001b[0m\u001b[0;34m\u001b[0m\u001b[0m\n\u001b[1;32m      3\u001b[0m \u001b[0;34m\u001b[0m\u001b[0m\n\u001b[0;32m----> 4\u001b[0;31m \u001b[0ms_evts\u001b[0m \u001b[0;34m=\u001b[0m \u001b[0mf_s\u001b[0m\u001b[0;34m.\u001b[0m\u001b[0mtree\u001b[0m\u001b[0;34m.\u001b[0m\u001b[0mGetEntries\u001b[0m\u001b[0;34m(\u001b[0m\u001b[0;34m)\u001b[0m\u001b[0;34m\u001b[0m\u001b[0m\n\u001b[0m\u001b[1;32m      5\u001b[0m \u001b[0mt_evts\u001b[0m \u001b[0;34m=\u001b[0m \u001b[0mf_t\u001b[0m\u001b[0;34m.\u001b[0m\u001b[0mtree\u001b[0m\u001b[0;34m.\u001b[0m\u001b[0mGetEntries\u001b[0m\u001b[0;34m(\u001b[0m\u001b[0;34m)\u001b[0m\u001b[0;34m\u001b[0m\u001b[0m\n",
      "\u001b[0;31mAttributeError\u001b[0m: TFile object has no attribute 'tree'"
     ]
    }
   ],
   "source": [
    "f_s = TFile(\"MCC7CorsikaCosmicXYZ_dens.root\",\"READ\")\n",
    "f_t = TFile(\"DataCosmicXYZ_dens.root\",\"READ\")\n",
    "\n",
    "s_evts = f_s.tree.GetEntries()\n",
    "t_evts = f_t.tree.GetEntries()"
   ]
  },
  {
   "cell_type": "code",
   "execution_count": null,
   "metadata": {
    "collapsed": false
   },
   "outputs": [],
   "source": [
    "#f_s = TFile(\"dens_cosbnb_pi0.root\",\"READ\")\n",
    "#f_t = TFile(\"dens_cosbnb_trk.root\",\"READ\")\n",
    "#f_s = TFile(\"dens_cosbnb_pi0_v1.root\",\"READ\")\n",
    "#f_t = TFile(\"dens_cosbnb_trk_v1.root\",\"READ\")\n",
    "#f_s = TFile(\"/Users/ah673/WorkArea/Root6LArLite/UserDev/FindNeutrinos/FindCutValue/mac/dens_full_pi0_v2.root\",\"READ\")\n",
    "#f_t = TFile(\"/Users/ah673/WorkArea/Root6LArLite/UserDev/FindNeutrinos/FindCutValue/mac/dens_full_trk_v2.root\",\"READ\")\n",
    "\n",
    "f_s = TFile(\"dens_mcc8_bnb_cos_pi0.root\",\"READ\")\n",
    "f_t = TFile(\"dens_mcc8_bnb_cos_trk.root\",\"READ\")\n",
    "\n",
    "n_rads = 15\n",
    "rad_inc = 5\n",
    "\n",
    "hits_sh = []\n",
    "hits_tr = []\n",
    "rad_all  = [rad_inc*(i+1) for i in xrange(0,n_rads)]\n",
    "\n",
    "s_evts = f_s.tree.GetEntries()\n",
    "t_evts = f_t.tree.GetEntries()\n",
    "\n",
    "print s_evts, t_evts\n",
    "#t_evts = s_evts\n",
    "\n",
    "print \"N radS : \", n_rads\n",
    "for j in xrange(n_rads):\n",
    "   \n",
    "    for i in xrange(s_evts):\n",
    "        \n",
    "        getEvt = f_s.tree.GetEntry(i)\n",
    "        hits_sh.append(f_s.tree.hits_per_r[j])  \n",
    "    \n",
    "    for k in xrange(t_evts):\n",
    "        \n",
    "        getEvt = f_t.tree.GetEntry(k)\n",
    "        hits_tr.append(f_t.tree.hits_per_r[j])  \n",
    "    \n",
    "hits_sh = np.array(hits_sh).reshape(n_rads,s_evts)\n",
    "hits_tr = np.array(hits_tr).reshape(n_rads,t_evts)\n",
    "\n",
    "#hit_sh_sum = [ float(np.cumsum(i)[-1]) / s_evts for i in hits_sh]\n",
    "#hit_tr_sum = [ float(np.cumsum(i)[-1]) / t_evts for i in hits_tr]"
   ]
  },
  {
   "cell_type": "code",
   "execution_count": null,
   "metadata": {
    "collapsed": false
   },
   "outputs": [],
   "source": [
    "def displayData(hit_sh_v,hit_tr_v,rad,display_dim, norm=False):\n",
    "\n",
    "    bin_size = 0.05; min_edge = 0; max_edge = 1\n",
    "    N = (max_edge-min_edge)/bin_size; Nplus1 = N + 1\n",
    "    bin_list = np.linspace(min_edge, max_edge, Nplus1)\n",
    "    \n",
    "    plt.figure(figsize=(30,30))\n",
    "    for i in xrange(len(rad)):\n",
    "        \n",
    "        plt.subplot(display_dim+1,display_dim-1,i+1)\n",
    "        sig0, bins_s, _ = plt.hist(hit_sh_v[i],bins=bin_list,normed=norm,facecolor='blue',alpha=0.5,\n",
    "                 label=\"BNB N $\\pi0$ events\")\n",
    "        bkgd0, bins_b, _= plt.hist(hit_tr_v[i],bins=bin_list,normed=norm,facecolor='red',alpha=0.5,\n",
    "                 label=\"BNB track-like events\")\n",
    "        plt.title(\"Ratio of shrhits : gaushits at Rad = %d [cm]\"%rad[i],size=20)\n",
    "        plt.xlabel(\"Ratio of Enclosed Shower-like Hits : Gaushits\")\n",
    "        plt.ylabel(\"Counts\")\n",
    "        plt.legend(loc=0)\n",
    "        #plt.yscale('log', nonposy='clip')\n",
    "        plt.ylim(0,9500)\n",
    "        plt.grid(True)\n",
    "        s_tot = np.cumsum(sig0)[-1]\n",
    "        b_tot = np.cumsum(bkgd0)[-1]\n",
    "    \n",
    "        #print \"Rad \", rad[i], \", Bkgd bins : \", bkgd0\n",
    "        \n",
    "        eff = [ float(np.cumsum(sig0[i:])[-1])/s_tot for i in xrange(len(sig0)) ] \n",
    "        pur = [ float(np.cumsum(sig0[i:])[-1])/(np.cumsum(sig0[i:])[-1] + np.cumsum(bkgd0[i:])[-1]) for i in xrange(len(bkgd0)) ]\n",
    "        \n",
    "        mult = [ eff[i] * pur[i] for i in xrange(len(eff)) ]\n",
    "        \n",
    "        bins_ss = [i+bin_size/2 for i in bins_s]\n",
    "        \n",
    "        if !norm :\n",
    "            ax2 = plt.twinx()\n",
    "            plt.plot(bins_ss[:-1],eff,'ko',label=\"Efficiency\")       \n",
    "            plt.plot(bins_ss[:-1],pur,'go',label=\"Purity\")       \n",
    "            plt.plot(bins_ss[:-1],mult,'bo',label=\"Eff * Pur\")      \n",
    "            ax2.set_ylabel('Efficiency', color='k')\n",
    "            ax2.set_ylim(0,1)\n",
    "    \n",
    "    plt.show()"
   ]
  },
  {
   "cell_type": "code",
   "execution_count": null,
   "metadata": {
    "collapsed": false
   },
   "outputs": [],
   "source": [
    "displayData(hits_sh,hits_tr,rad_all,4)"
   ]
  },
  {
   "cell_type": "code",
   "execution_count": null,
   "metadata": {
    "collapsed": false
   },
   "outputs": [],
   "source": [
    "plt.figure(figsize=(10,6))\n",
    "#for i in xrange(len(rad)/2,len(rad)):\n",
    "hit_sh_v = hits_sh\n",
    "hit_tr_v = hits_tr\n",
    "rad = rad_all\n",
    "\n",
    "bin_size = 0.05; min_edge = 0; max_edge = 1\n",
    "N = (max_edge-min_edge)/bin_size; Nplus1 = N + 1\n",
    "bin_list = np.linspace(min_edge, max_edge, Nplus1)\n",
    "\n",
    "if True:\n",
    " \n",
    "    if True:\n",
    "        i =  11\n",
    "        \n",
    "        sig0, bins_s, _ = plt.hist(hit_sh_v[i],bins=bin_list,normed=n,facecolor='blue',alpha=0.5,\n",
    "                 label=\"MC BNB N $\\pi^0$\")\n",
    "        bkgd0, bins_b, _= plt.hist(hit_tr_v[i],bins=bin_list,normed=n,facecolor='red',alpha=0.5,\n",
    "                 label=\"MC BNB 0 $\\pi^0$\")\n",
    "        plt.title(\"Hit Ratio at Rad = %d [cm]\"%rad[i],size=20)\n",
    "        plt.xlabel(\"Ratio of Enclosed Shower-like Hits : Gaushits\",fontsize=16)\n",
    "        plt.ylabel(\"Counts\",fontsize=16)\n",
    "        plt.legend(loc=0)\n",
    "        #plt.ylim(0,30)\n",
    "        #plt.yscale('log', nonposy='clip')\n",
    "        plt.grid(True)\n",
    "        s_tot = np.cumsum(sig0)[-1]\n",
    "        b_tot = np.cumsum(bkgd0)[-1]\n",
    "        print \"Total sig and back \", s_tot, b_tot, len(sig0), len(bkgd0)\n",
    "        print float(np.cumsum(bkgd0[1:])[-1])/s_tot\n",
    "        \n",
    "        eff = [ float(np.cumsum(sig0[i:])[-1])/s_tot for i in xrange(len(sig0)) ] \n",
    "        #pur = [ 1- float(np.cumsum(bkgd0[i:])[-1])/(b_tot+s_tot) for i in xrange(len(bkgd0)) ] \n",
    "        pur = [ float(np.cumsum(sig0[i:])[-1])/(np.cumsum(sig0[i:])[-1] + np.cumsum(bkgd0[i:])[-1]) for i in xrange(len(bkgd0)) ] \n",
    "        bins_ss = [i+bin_size/2 for i in bins_s]\n",
    "        \n",
    "        mult = [ eff[i] * pur[i] for i in xrange(len(eff)) ]\n",
    "        \n",
    "        if !n:\n",
    "            ax2 = plt.twinx()\n",
    "            plt.plot(bins_ss[:-1],eff,'ko',label=\"Efficiency\")       \n",
    "            plt.plot(bins_ss[:-1],pur,'go',label=\"Purity\")       \n",
    "            plt.plot(bins_ss[:-1],mult,'bo',label=\"Eff * Pur\")       \n",
    "            ax2.set_ylabel('Efficiency/Purity', color='k',fontsize=16)\n",
    "            ax2.legend(loc=9)\n",
    "            #ax2.legend(loc='center left', bbox_to_anchor=(1.15, 0.5))\n",
    "       \n",
    "    plt.show()"
   ]
  },
  {
   "cell_type": "code",
   "execution_count": null,
   "metadata": {
    "collapsed": false
   },
   "outputs": [],
   "source": [
    "cut = 5\n",
    "\n",
    "print \"Percent of preserved signal: %.2f \" % (np.cumsum(sig0[cut:])[-1] / np.cumsum(sig0)[-1] * 100)\n",
    "#print np.cumsum(sig0[cut:])[-1] , np.cumsum(bkgd0[cut:])[-1]\n",
    "#print np.cumsum(sig0)[-1] , np.cumsum(bkgd0)[-1]\n",
    "print \"Purirty of preserved signal: %.2f \" % \\\n",
    "(100*np.cumsum(sig0[cut:])[-1] / ( np.cumsum(bkgd0[cut:])[-1] + np.cumsum(sig0[cut:])[-1] ))\n",
    "#print np.cumsum(sig0[cut:])[-1] + np.cumsum(bkgd0[cut:])[-1]"
   ]
  },
  {
   "cell_type": "code",
   "execution_count": null,
   "metadata": {
    "collapsed": false
   },
   "outputs": [],
   "source": [
    "17* 0.29"
   ]
  },
  {
   "cell_type": "code",
   "execution_count": null,
   "metadata": {
    "collapsed": true
   },
   "outputs": [],
   "source": []
  }
 ],
 "metadata": {
  "kernelspec": {
   "display_name": "Python 2",
   "language": "python",
   "name": "python2"
  },
  "language_info": {
   "codemirror_mode": {
    "name": "ipython",
    "version": 2
   },
   "file_extension": ".py",
   "mimetype": "text/x-python",
   "name": "python",
   "nbconvert_exporter": "python",
   "pygments_lexer": "ipython2",
   "version": "2.7.10"
  }
 },
 "nbformat": 4,
 "nbformat_minor": 0
}
