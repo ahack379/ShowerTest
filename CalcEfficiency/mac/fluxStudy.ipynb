{
 "cells": [
  {
   "cell_type": "code",
   "execution_count": 1,
   "metadata": {
    "collapsed": false
   },
   "outputs": [],
   "source": [
    "import ROOT\n",
    "from ROOT import larlite\n",
    "from ROOT import TFile, TH1D\n",
    "import numpy as np\n",
    "import matplotlib.pyplot as plt\n",
    "import scipy.misc as smp\n",
    "import root_numpy as rn\n",
    "import pandas as pd\n",
    "from scipy.optimize import curve_fit\n",
    "from scipy.integrate import simps,trapz\n",
    "%matplotlib inline"
   ]
  },
  {
   "cell_type": "code",
   "execution_count": 74,
   "metadata": {
    "collapsed": false
   },
   "outputs": [
    {
     "name": "stdout",
     "output_type": "stream",
     "text": [
      "OLD BNB SAMPLE: 8.497e+09 \n",
      "BNB Only Flux: 1.737e+11\n",
      "Mean energy:  0.823394183753\n"
     ]
    }
   ],
   "source": [
    "f = TFile(\"numode_bnb_470m_r200.root\")\n",
    "\n",
    "flux_pot = 1 #e+20\n",
    "sample_pot = 2.42 #e+20\n",
    "cosmic_pot = 1.90 #e+20\n",
    "\n",
    "numu = f.Get(\"numu\")\n",
    "numu = TH1D(numu)\n",
    "numu.Scale(sample_pot/flux_pot)\n",
    "int_flux = numu.Integral()\n",
    "mean = numu.GetMean() \n",
    "\n",
    "#numu.Scale(cosmic_pot) #/sample_pot)\n",
    "#cosmic_flux = numu.Integral()\n",
    "\n",
    "flux_v = rn.hist2array(hist=numu)\n",
    "energy = np.arange(0.,2,0.05)\n",
    "#energy = np.linspace(0.,10,200)\n",
    "\n",
    "int_flux_old = simps(flux_v[:40], energy) #/ flux_pot * sample_pot\n",
    "#cosmic_flux = int_flux / sample_pot * cosmic_pot\n",
    "print \"OLD BNB SAMPLE: %.3e \" % int_flux_old\n",
    "\n",
    "print(\"BNB Only Flux: {:.3e}\".format(int_flux))\n",
    "#print(\"Cosmic BNB Flux: {:.3e}\".format(cosmic_flux))\n",
    "print \"Mean energy: \", numu.GetMean()"
   ]
  },
  {
   "cell_type": "code",
   "execution_count": 40,
   "metadata": {
    "collapsed": false
   },
   "outputs": [
    {
     "name": "stdout",
     "output_type": "stream",
     "text": [
      "173.741579833\n",
      "0.725\n"
     ]
    }
   ],
   "source": [
    "tot_flux = np.cumsum(flux_v)[-1]\n",
    "\n",
    "print tot_flux / 1e+9\n",
    "run_sum = 0\n",
    "for i in xrange(len(flux_v)): \n",
    "    if run_sum > tot_flux/2:\n",
    "        break\n",
    "    run_sum += flux_v[i]\n",
    "\n",
    "#print energy[i-1], energy[i]\n",
    "e = (energy[i-1] + energy[i])/2\n",
    "print e"
   ]
  },
  {
   "cell_type": "code",
   "execution_count": 63,
   "metadata": {
    "collapsed": false
   },
   "outputs": [
    {
     "name": "stdout",
     "output_type": "stream",
     "text": [
      "FLUX : 8.67e+09\n"
     ]
    },
    {
     "data": {
      "image/png": "[encoded data removed]",
      "text/plain": [
       "<matplotlib.figure.Figure at 0x12a37fed0>"
      ]
     },
     "metadata": {},
     "output_type": "display_data"
    }
   ],
   "source": [
    "# Check whether or not this is the scaled flux\n",
    "plt.figure()\n",
    "plt.plot(energy,flux_v,'bo',label=\"$\\\\nu_\\mu$ Flux\")\n",
    "plt.grid(True)#,which='both')\n",
    "plt.xlabel(\"Energy [GeV]\",fontsize=18)\n",
    "plt.ylabel(\"#$\\\\nu / 10^{20} POT / cm^2/bin$\",fontsize=18)\n",
    "plt.title(\"$\\\\nu_\\mu$ Flux\",fontsize=20)\n",
    "plt.axvline(mean,color='g',lw=3,label = \"<$E_\\\\nu$> = %.3f GeV\"%mean)\n",
    "plt.legend()\n",
    "plt.savefig(\"numu_flux.png\")\n",
    "#plt.xlim(0,4)\n",
    "\n",
    "trap_area = 0\n",
    "for i in xrange(len(flux_v)-1):\n",
    "    trap_area += (flux_v[i] + flux_v[i+1]) / 2 * 0.05 \n",
    "\n",
    "print \"FLUX : %.2e\" % trap_area "
   ]
  },
  {
   "cell_type": "code",
   "execution_count": 46,
   "metadata": {
    "collapsed": false
   },
   "outputs": [],
   "source": [
    "def getXSection(N_sig,N_bkgd,N_targ,eff,flux):\n",
    "    \n",
    "    xsec = float(N_sig - N_bkgd)/(N_targ * eff * flux)\n",
    "    return xsec"
   ]
  },
  {
   "cell_type": "code",
   "execution_count": 141,
   "metadata": {
    "collapsed": false
   },
   "outputs": [
    {
     "name": "stdout",
     "output_type": "stream",
     "text": [
      "Cross section is 5.61e-40\n",
      "With average energy 823.40 [MeV]\n"
     ]
    }
   ],
   "source": [
    "N_sig = 3495\n",
    "N_bkgd = 0\n",
    "N_targ = 3.584e+31\n",
    "eff = 1.\n",
    "flux = int_flux\n",
    "\n",
    "xsec = getXSection(N_sig,N_bkgd,N_targ,eff,int_flux)\n",
    "\n",
    "print(\"Cross section is {:.2e}\".format(xsec))\n",
    "print(\"With average energy {:.2f} [MeV]\".format(823.4))"
   ]
  },
  {
   "cell_type": "code",
   "execution_count": null,
   "metadata": {
    "collapsed": true
   },
   "outputs": [],
   "source": []
  },
  {
   "cell_type": "code",
   "execution_count": null,
   "metadata": {
    "collapsed": true
   },
   "outputs": [],
   "source": []
  }
 ],
 "metadata": {
  "kernelspec": {
   "display_name": "Python 2",
   "language": "python",
   "name": "python2"
  },
  "language_info": {
   "codemirror_mode": {
    "name": "ipython",
    "version": 2
   },
   "file_extension": ".py",
   "mimetype": "text/x-python",
   "name": "python",
   "nbconvert_exporter": "python",
   "pygments_lexer": "ipython2",
   "version": "2.7.10"
  }
 },
 "nbformat": 4,
 "nbformat_minor": 0
}
