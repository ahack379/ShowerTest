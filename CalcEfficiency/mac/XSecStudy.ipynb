{
 "cells": [
  {
   "cell_type": "code",
   "execution_count": 1,
   "metadata": {
    "collapsed": false
   },
   "outputs": [],
   "source": [
    "import ROOT\n",
    "from ROOT import larlite\n",
    "from ROOT import TFile, TDirectory, TGraph\n",
    "import numpy as np\n",
    "import matplotlib.pyplot as plt\n",
    "import scipy.misc as smp\n",
    "import root_numpy as rn\n",
    "import pandas as pd\n",
    "from scipy.optimize import curve_fit, minimize\n",
    "import math\n",
    "%matplotlib inline\n",
    "import glob\n",
    "from os.path import isfile, join"
   ]
  },
  {
   "cell_type": "code",
   "execution_count": 2,
   "metadata": {
    "collapsed": true
   },
   "outputs": [],
   "source": [
    "def loadE():\n",
    "    mypath='/Users/ah673/WorkArea/Root6LArLite/UserDev/FindNeutrinos/CalcEfficiency/mac/GenieFiles'\n",
    "    arg_e = [100, 150, 200, 250, 300, 400, 600, 800, 1000, 1500, 2000, 2500, 3000, 4000, 5000, 10000, 30000]\n",
    "    car_e = [150, 200, 250, 300, 400, 600, 800, 1000, 1500, 2000]\n",
    "    \n",
    "    car_files = []\n",
    "    arg_files = []\n",
    "    for e in arg_e:\n",
    "        f = 'gntpc_numu_carbon_%dMeV_CCincl.root'%e\n",
    "        if isfile(join(mypath, f)):\n",
    "            car_files.append(f)\n",
    "    \n",
    "    for e in car_e:\n",
    "        f = 'gntpc_numu_argon_%dMeV_CCincl.root'%e\n",
    "        if isfile(join(mypath, f)):\n",
    "            arg_files.append(f)\n",
    "    \n",
    "    return (car_files,arg_files)"
   ]
  },
  {
   "cell_type": "code",
   "execution_count": 3,
   "metadata": {
    "collapsed": false
   },
   "outputs": [],
   "source": [
    "car_files, arg_files = loadE()"
   ]
  },
  {
   "cell_type": "code",
   "execution_count": 37,
   "metadata": {
    "collapsed": false
   },
   "outputs": [],
   "source": [
    "arg_f = '/Users/ah673/WorkArea/Root6LArLite/UserDev/FindNeutrinos/CalcEfficiency/mac/GenieFiles/gxsec_numu_argon.root'\n",
    "arg_xsec = TFile(\"GenieFiles/gxsec_numu_argon.root\",\"READ\")\n",
    "#arg_xsec = TFile.Open(\"GenieFiles/gxsec_numu_argon.root\")\n",
    "#print \"ARG STUF: \", arg_xsec.list_directories()\n",
    "\n",
    "arg_xsec.cd('nu_mu_40')\n",
    "#print rn.list_directories(arg_f)\n",
    "#arg_xsec.cd('nu_mu_Ar40')\n",
    "#print TDirectory(arg_xsec.Get(\"nu_mu_Ar40\"))\n",
    "#arg_cc = arg_xsec.Get(\"tot_cc\")\n",
    "#print arg_cc\n",
    "\n",
    "#gr = ROOT.TGraph(arg_xsec.Get(\"tot_cc\"))\n",
    "#print \"ARG: \", ar_f.GetX()[0]\n",
    "#plt.plot(ar_f.GetX(),ar_f.GetY())\n",
    "\n",
    "#arg_gr = arg_xsec.Get(\"tot_cc\")\n",
    "\n",
    "#print ar_f\n",
    "\n",
    "\n",
    "car_xsec = TFile(\"GenieFiles/gxsec_numu_carbon.root\",\"READ\")"
   ]
  },
  {
   "cell_type": "code",
   "execution_count": 41,
   "metadata": {
    "collapsed": false
   },
   "outputs": [
    {
     "data": {
      "text/plain": [
       "[<matplotlib.lines.Line2D at 0x11dab9fd0>]"
      ]
     },
     "execution_count": 41,
     "metadata": {},
     "output_type": "execute_result"
    },
    {
     "data": {
      "image/png": "[encoded data removed]",
      "text/plain": [
       "<matplotlib.figure.Figure at 0x11d861b90>"
      ]
     },
     "metadata": {},
     "output_type": "display_data"
    }
   ],
   "source": [
    "b = 16.2669  \n",
    "m = 27.7789\n",
    "\n",
    "x = np.linspace(0,100,17)\n",
    "y = [ m*x[i] + b for i in xrange(len(x))]\n",
    "plt.plot(x,y)"
   ]
  },
  {
   "cell_type": "code",
   "execution_count": 40,
   "metadata": {
    "collapsed": false,
    "scrolled": true
   },
   "outputs": [
    {
     "ename": "NameError",
     "evalue": "name 'Ar_sigma' is not defined",
     "output_type": "error",
     "traceback": [
      "\u001b[0;31m---------------------------------------------------------------------------\u001b[0m",
      "\u001b[0;31mNameError\u001b[0m                                 Traceback (most recent call last)",
      "\u001b[0;32m<ipython-input-40-6c0c57d666cf>\u001b[0m in \u001b[0;36m<module>\u001b[0;34m()\u001b[0m\n\u001b[1;32m     36\u001b[0m \u001b[0;34m\u001b[0m\u001b[0m\n\u001b[1;32m     37\u001b[0m \u001b[0;34m\u001b[0m\u001b[0m\n\u001b[0;32m---> 38\u001b[0;31m         \u001b[0marg_xsec\u001b[0m\u001b[0;34m.\u001b[0m\u001b[0mappend\u001b[0m\u001b[0;34m(\u001b[0m \u001b[0mfloat\u001b[0m\u001b[0;34m(\u001b[0m\u001b[0mn_sig\u001b[0m\u001b[0;34m)\u001b[0m \u001b[0;34m/\u001b[0m \u001b[0mnev\u001b[0m \u001b[0;34m*\u001b[0m \u001b[0mAr_sigma\u001b[0m\u001b[0;34m[\u001b[0m\u001b[0mk\u001b[0m\u001b[0;34m]\u001b[0m\u001b[0;34m)\u001b[0m\u001b[0;34m\u001b[0m\u001b[0m\n\u001b[0m\u001b[1;32m     39\u001b[0m     \u001b[0;31m#print temp_f.shape\u001b[0m\u001b[0;34m\u001b[0m\u001b[0;34m\u001b[0m\u001b[0m\n\u001b[1;32m     40\u001b[0m \u001b[0;34m\u001b[0m\u001b[0m\n",
      "\u001b[0;31mNameError\u001b[0m: name 'Ar_sigma' is not defined"
     ]
    }
   ],
   "source": [
    "for k in xrange(len(arg_files)):\n",
    "\n",
    "    mypath='/Users/ah673/WorkArea/Root6LArLite/UserDev/FindNeutrinos/CalcEfficiency/mac/GenieFiles/'\n",
    "    f = mypath + arg_files[k] \n",
    "    #filename = TFile(f,\"READ\");\n",
    "    temp_f = rn.root2array(f, treename='gst',\n",
    "                    branches=['iev','neu','fspl','tgt','Z','A','hitnuc',\\\n",
    "                              'hitqrk','resid','sea','qel','mec','res','dis',\\\n",
    "                              'coh','dfr','imd','imdanh','singlek','nuel',\\\n",
    "                              'em','cc','nc','charm','neut_code','nuance_code',\\\n",
    "                              'wght','xs','ys','ts','Q2s','W','EvRF','Ev','pxv',\\\n",
    "                              'pyv','pzv','En','pxn','pyn','pzn','El','pxl','pyl',\\\n",
    "                              'pzl','pl','cthl','nfp','nfn','nfpip','nfpim','nfpi0',\\\n",
    "                              'nfkp','nfkm','nfk0','nfem','nfother','nip','nin','nipip',\\\n",
    "                              'nipim','nipi0','nikp','nikm','nik0','niem','niother','ni',\\\n",
    "                              'pdgi','resc','Ei','pxi','pyi','pzi','nf','pdgf','Ef','pxf',\\\n",
    "                              'pyf','pzf','pf','cthf','vtxx','vtxy','vtxz','vtxt','sumKEf',\\\n",
    "                              'calresp0'])   \n",
    "\n",
    "    npi0, npi, nk, nk0 = 0, 0, 0, 0\n",
    "    nev = temp_f.shape[0]\n",
    "    arg_xsec, car_xsec = [], []\n",
    "    for i in xrange(nev):\n",
    "        n_sig = 0\n",
    "        npart = temp_f[i]['nf']\n",
    "        for j in xrange(int(npart)):\n",
    "            pdgf = temp_f[i]['pdgf']\n",
    "            \n",
    "            if pdgf[j] == 111: npi0+=1\n",
    "            elif pdgf[j] == 11 or pdgf[j] == 22 :  nlep+=1\n",
    "            elif pdgf[j] == 211 or pdgf[j] == -211 : npi+=1\n",
    "            elif pdgf[j] == 321 or pdgf[j] == -321: nk+=1\n",
    "            elif pdgf[j] == 130 or pdgf[j] == 310 or pdgf[j] == 311 or pdgf[j] == -311: nk0+=1\n",
    "            \n",
    "            if(npi0 == 1 and npi == 0 and nk == 0 and nk0 == 0 and nlep == 0): n_sig+=1\n",
    "\n",
    "    \n",
    "        arg_xsec.append( float(n_sig) / nev * Ar_sigma[k])\n",
    "    #print temp_f.shape\n",
    "\n",
    "for k in xrange(len(car_files)):\n",
    "    \n",
    "    mypath='/Users/ah673/WorkArea/Root6LArLite/UserDev/FindNeutrinos/CalcEfficiency/mac/GenieFiles/'\n",
    "    f = mypath + car_files[k] \n",
    "    \n",
    "    temp_f = rn.root2array(f, treename='gst',\n",
    "                            branches=['iev','neu','fspl','tgt','Z','A','hitnuc',\\\n",
    "                              'hitqrk','resid','sea','qel','mec','res','dis',\\\n",
    "                              'coh','dfr','imd','imdanh','singlek','nuel',\\\n",
    "                              'em','cc','nc','charm','neut_code','nuance_code',\\\n",
    "                              'wght','xs','ys','ts','Q2s','W','EvRF','Ev','pxv',\\\n",
    "                              'pyv','pzv','En','pxn','pyn','pzn','El','pxl','pyl',\\\n",
    "                              'pzl','pl','cthl','nfp','nfn','nfpip','nfpim','nfpi0',\\\n",
    "                              'nfkp','nfkm','nfk0','nfem','nfother','nip','nin','nipip',\\\n",
    "                              'nipim','nipi0','nikp','nikm','nik0','niem','niother','ni',\\\n",
    "                              'pdgi','resc','Ei','pxi','pyi','pzi','nf','pdgf','Ef','pxf',\\\n",
    "                              'pyf','pzf','pf','cthf','vtxx','vtxy','vtxz','vtxt','sumKEf',\\\n",
    "                              'calresp0'])\n",
    "    \n",
    "    npi0, npi, nk, nk0 = 0, 0, 0, 0\n",
    "    nev = temp_f.shape[0]\n",
    "    xsec = []\n",
    "    for i in xrange(nev):\n",
    "        n_sig = 0\n",
    "        npart = temp_f[i]['nf']\n",
    "        for j in xrange(int(npart)):\n",
    "            pdgf = temp_f[i]['pdgf']\n",
    "            \n",
    "            if pdgf[j] == 111: npi0+=1\n",
    "            elif pdgf[j] == 11 or pdgf[j] == 22 :  nlep+=1\n",
    "            elif pdgf[j] == 211 or pdgf[j] == -211 : npi+=1\n",
    "            elif pdgf[j] == 321 or pdgf[j] == -321: nk+=1\n",
    "            elif pdgf[j] == 130 or pdgf[j] == 310 or pdgf[j] == 311 or pdgf[j] == -311: nk0+=1\n",
    "            \n",
    "        if(npi0 == 1 and npi == 0 and nk == 0 and nk0 == 0 and nlep == 0): n_sig+=1\n",
    "    \n",
    "        car_xsec.append( float(n_sig) / nev * Ar_sigma[k])\n",
    "\n",
    "    #print temp_f.shape"
   ]
  },
  {
   "cell_type": "code",
   "execution_count": 18,
   "metadata": {
    "collapsed": false
   },
   "outputs": [],
   "source": [
    "FILENAME = \"gamma_mergeall_gaus.root\" #TFile(\"ana.root\",\"READ\")\n",
    "FILENAME = \"gamma_e_compare.root\" #TFile(\"ana.root\",\"READ\")\n",
    "\n",
    "gamma_v = rn.root2array(FILENAME,\n",
    "                    treename='tree',\n",
    "                    branches=['hit_reco_e','reco_e','mc_e','sum','sum_adj','sum_reco_int'])\n",
    "\n",
    "\n",
    "true_e = [gamma_v[i][2] for i in xrange(gamma_v.shape[0])]\n",
    "reco_e = [gamma_v[i][1] for i in xrange(gamma_v.shape[0])]\n",
    "sum_v = [gamma_v[i][3] for i in xrange(gamma_v.shape[0])]\n",
    "sum_adj_v = [gamma_v[i][4] for i in xrange(gamma_v.shape[0])]\n",
    "sum_reco_int = [gamma_v[i][5] for i in xrange(gamma_v.shape[0])]\n"
   ]
  },
  {
   "cell_type": "code",
   "execution_count": null,
   "metadata": {
    "collapsed": true
   },
   "outputs": [],
   "source": [
    "\n",
    "    tree = dynamic_cast <TTree *>(file.Get(\"gst\"));\n",
    "      if(!tree) return 1;\n",
    "\n",
    "      tree -> SetBranchAddress(\"nf\", &nf);\n",
    "      tree -> SetBranchAddress(\"pdgf\", pdgf);\n",
    "      tree -> SetBranchAddress(\"Ef\", Ef);\n",
    "\n",
    "      int nev = tree -> GetEntries();\n",
    "\n",
    "      double n_ccincl = 0;\n",
    "      double n_0pi = 0;\n",
    "\n",
    "      int npi = 0;\n",
    "      int npi0 = 0;\n",
    "      int np = 0;\n",
    "      int nk = 0;\n",
    "      int nk0 = 0;\n",
    "      int ngamma = 0;\n",
    "      int nn = 0;\n",
    "      int npseudo = 0;\n",
    "      int nlambda0 = 0;\n",
    "      int nsigma0 = 0;\n",
    "      int nsigma = 0;\n",
    "      int nantip = 0;\n",
    "      int nexclude = 0;\n",
    "\n",
    "      for(int i = 0; i < nev; i++) {\n",
    "\n",
    "         tree->GetEntry(i);\n",
    "\n",
    "         npi = 0;\n",
    "         npi0 = 0;\n",
    "         np = 0;\n",
    "         nk = 0;\n",
    "         nk0 = 0;\n",
    "                     ngamma = 0;\n",
    "         nn = 0;\n",
    "         nlambda0 = 0;\n",
    "         nsigma0 = 0;\n",
    "         nsigma = 0;\n",
    "         nantip = 0;\n",
    "         nexclude = -1;\n",
    "         nelec = 0;\n",
    "\n",
    "         for(int j = 0; j < nf; j++) {\n",
    "            if(pdgf[j] == 111 && Ef[j] > Ar_Ethresh_pi0) npi0++;\n",
    "            else if(pdgf[j] == 11 )  nelec++;\n",
    "            else if((pdgf[j] == 211 || pdgf[j] == -211) && Ef[j] > Ar_Ethresh_pi) npi++;\n",
    "            else if(pdgf[j] == 2212 && Ef[j] > Ar_Ethresh_p) np++;\n",
    "            else if((pdgf[j] == 321 || pdgf[j] == -321) && Ef[k] > Ar_Ethresh_K) nk++;\n",
    "            else if((pdgf[j] == 130 || pdgf[j] == 310 || pdgf[j] == 311 || pdgf[j] == -311) && Ef[j] > Ar_Ethresh_K0) nk0++;\n",
    "            else if(pdgf[j] == 22) ngamma++;\n",
    "            else if(pdgf[j] == 2112 || pdgf[j] == -2112) nn++;\n",
    "            else if((pdgf[j] == 3122 || pdgf[j] == -3122) && Ef[j] > Ar_Ethresh_Lambda0) nlambda0++;\n",
    "            else if(pdgf[j] == 3212 && Ef[j] > Ar_Ethresh_Sigma0) nsigma0++;\n",
    "            else if((pdgf[j] == 3222 || pdgf[j] == 3112) && Ef[j] > Ar_Ethresh_Sigma) nsigma++;\n",
    "            else if(pdgf[j] == -2212 && Ef[j] > Ar_Ethresh_antip) nantip++;\n",
    "         }// end loop over particles    \n",
    "\n",
    "         n_ccincl++;\n",
    "         if(npi0 == 1 && npi == 0 && nk == 0 && nk0 == 0 && ngamma == 0 && nelec == 0) n_0pi++;\n",
    "\n",
    "      }//end loop over events\n",
    "\n",
    "      file.Close();\n",
    "\n",
    "      Ar_N_ccincl[k] = n_ccincl / nev / nargon * Ar_sigma[k];\n",
    "      Ar_N_0pi[k] = n_0pi / nev / nargon * Ar_sigma[k];\n",
    "   }\n",
    "\n"
   ]
  },
  {
   "cell_type": "code",
   "execution_count": null,
   "metadata": {
    "collapsed": true
   },
   "outputs": [],
   "source": []
  },
  {
   "cell_type": "code",
   "execution_count": null,
   "metadata": {
    "collapsed": true
   },
   "outputs": [],
   "source": []
  },
  {
   "cell_type": "code",
   "execution_count": null,
   "metadata": {
    "collapsed": true
   },
   "outputs": [],
   "source": [
    "   for(int k = 0; k < C_n; k++) {\n",
    "\n",
    "      double wght = 0;\n",
    "\n",
    "      cout << \"... \" << k << endl;\n",
    "\n",
    "      int energy = C_E[k];\n",
    "      TTree *tree = 0;\n",
    "      sprintf(filename, \"/Users/ah673/WorkArea/Root6LArLite/UserDev/FindNeutrinos/CalcEfficiency/mac/GenieFiles/gntpc_numu_carbon_%dMeV_CCincl.root\", energy);\n",
    "      TFile file(filename,\"READ\");\n",
    "\n",
    "      tree = dynamic_cast <TTree *>(file.Get(\"gst\"));\n",
    "      if(!tree) return 1;\n",
    "\n",
    "      tree -> SetBranchAddress(\"nf\", &nf);\n",
    "      tree -> SetBranchAddress(\"pdgf\", pdgf);\n",
    "      tree -> SetBranchAddress(\"Ef\", Ef);\n",
    "\n",
    "      int nev = tree -> GetEntries();\n",
    "\n",
    "      double n_ccincl = 0;\n",
    "      double n_0p = 0;\n",
    "      double n_1p = 0;\n",
    "      double n_2p = 0;\n",
    "      double n_0pi = 0;\n",
    "\n",
    "      int npi = 0;\n",
    "      int npi0 = 0;\n",
    "      int np = 0;\n",
    "      int nk = 0;\n",
    "      int nk0 = 0;\n",
    "      int ngamma = 0;\n",
    "      int nn = 0;\n",
    "      int npseudo = 0;\n",
    "      int nlambda0 = 0;\n",
    "      int nsigma0 = 0;\n",
    "      int nsigma = 0;\n",
    "      int nantip = 0;\n",
    "      int nexclude = 0;\n",
    "\n",
    "      for(int i = 0; i < nev; i++) {\n",
    "\n",
    "         tree->GetEntry(i);\n",
    "\n",
    "         npi = 0;\n",
    "         npi0 = 0;\n",
    "         np = 0;\n",
    "         nk = 0;\n",
    "         nk0 = 0;\n",
    "                    ngamma = 0;\n",
    "         nelec = 0;\n",
    "         nn = 0;\n",
    "         nlambda0 = 0;\n",
    "         nsigma0 = 0;\n",
    "         nsigma = 0;\n",
    "         nantip = 0;\n",
    "         nexclude = -1;\n",
    "\n",
    "         for(int j = 0; j < nf; j++) {\n",
    "            if(pdgf[j] == 111 && Ef[j] > C_Ethresh_pi0) npi0++;\n",
    "            else if(abs(pdgf[j]) == 11 ) nelec++;\n",
    "            else if((pdgf[j] == 211 || pdgf[j] == -211) && Ef[j] > C_Ethresh_pi) npi++;\n",
    "            else if(pdgf[j] == 2212 && Ef[j] > C_Ethresh_p) np++;\n",
    "            else if((pdgf[j] == 321 || pdgf[j] == -321) && Ef[k] > C_Ethresh_K) nk++;\n",
    "            else if((pdgf[j] == 130 || pdgf[j] == 310 || pdgf[j] == 311 || pdgf[j] == -311) && Ef[j] > C_Ethresh_K0) nk0++;\n",
    "            else if(pdgf[j] == 22) ngamma++;\n",
    "            else if(pdgf[j] == 2112 || pdgf[j] == -2112) nn++;\n",
    "            else if((pdgf[j] == 3122 || pdgf[j] == -3122) && Ef[j] > C_Ethresh_Lambda0) nlambda0++;\n",
    "            else if(pdgf[j] == 3212 && Ef[j] > C_Ethresh_Sigma0) nsigma0++;\n",
    "            else if((pdgf[j] == 3222 || pdgf[j] == 3112) && Ef[j] > C_Ethresh_Sigma) nsigma++;\n",
    "            else if(pdgf[j] == -2212 && Ef[j] > C_Ethresh_antip) nantip++;\n",
    "         }// end loop over particles    \n",
    "\n",
    "         nexclude = npi + npi0 + nk + nk0 + ngamma + nlambda0 + nsigma + nsigma0 + nantip;\n",
    "         n_ccincl++;\n",
    "         //if(npi0 == 1) n_0pi++;\n",
    "         if(npi0 == 1 && npi == 0 && nk == 0 && nk0 == 0 && ngamma == 0 && nelec == 0) n_0pi++;\n",
    "\n",
    "      }//end loop over events\n",
    "\n",
    "      file.Close();\n",
    "\n",
    "      C_N_ccincl[k] = n_ccincl / nev / ncarbon * C_sigma[k];\n",
    "      C_N_0pi[k] = n_0pi / nev / ncarbon * C_sigma[k];\n",
    "   }\n"
   ]
  },
  {
   "cell_type": "code",
   "execution_count": null,
   "metadata": {
    "collapsed": true
   },
   "outputs": [],
   "source": []
  },
  {
   "cell_type": "code",
   "execution_count": 19,
   "metadata": {
    "collapsed": false
   },
   "outputs": [
    {
     "data": {
      "text/plain": [
       "<matplotlib.legend.Legend at 0x1201cbbd0>"
      ]
     },
     "execution_count": 19,
     "metadata": {},
     "output_type": "execute_result"
    },
    {
     "data": {
      "image/png": "[encoded data removed]",
      "text/plain": [
       "<matplotlib.figure.Figure at 0x12024dad0>"
      ]
     },
     "metadata": {},
     "output_type": "display_data"
    },
    {
     "data": {
      "image/png": "[encoded data removed]",
      "text/plain": [
       "<matplotlib.figure.Figure at 0x11f866f50>"
      ]
     },
     "metadata": {},
     "output_type": "display_data"
    }
   ],
   "source": [
    "plt.figure(figsize=(8,6))\n",
    "plt.hist(sum_v,bins=50,label=\"Not Adjusted\") #, norm=LogNorm())\n",
    "#plt.plot(x,x,'r-',label='y = x',lw=4)\n",
    "plt.grid(True)\n",
    "plt.xlabel(\"Sum of Integral of All $\\gamma$ hits [ADC]\",fontsize=20)\n",
    "plt.legend(loc=0,fontsize=20)"
   ]
  },
  {
   "cell_type": "code",
   "execution_count": 20,
   "metadata": {
    "collapsed": false
   },
   "outputs": [],
   "source": [
    "def gauss(x, *p):\n",
    "    A, mu, sigma = p\n",
    "    return A*np.exp(-(x-mu)**2/(2.*sigma**2))\n"
   ]
  },
  {
   "cell_type": "code",
   "execution_count": null,
   "metadata": {
    "collapsed": true
   },
   "outputs": [],
   "source": []
  }
 ],
 "metadata": {
  "kernelspec": {
   "display_name": "Python 2",
   "language": "python",
   "name": "python2"
  },
  "language_info": {
   "codemirror_mode": {
    "name": "ipython",
    "version": 2
   },
   "file_extension": ".py",
   "mimetype": "text/x-python",
   "name": "python",
   "nbconvert_exporter": "python",
   "pygments_lexer": "ipython2",
   "version": "2.7.10"
  }
 },
 "nbformat": 4,
 "nbformat_minor": 0
}
