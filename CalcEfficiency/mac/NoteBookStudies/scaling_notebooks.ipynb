{
 "cells": [
  {
   "cell_type": "code",
   "execution_count": 4,
   "metadata": {
    "collapsed": false
   },
   "outputs": [],
   "source": [
    "import sys,array\n",
    "from ROOT import TFile, TCanvas\n",
    "import root_numpy as rn\n",
    "import numpy as np\n",
    "import math\n",
    "import pandas as pd\n",
    "import matplotlib\n",
    "import matplotlib.pyplot as plt\n",
    "\n",
    "%matplotlib inline\n",
    "matplotlib.rcParams['font.size'] = 16\n",
    "matplotlib.rcParams['font.family'] = 'serif'\n",
    "matplotlib.rcParams['font.weight'] = 'bold'"
   ]
  },
  {
   "cell_type": "code",
   "execution_count": 2,
   "metadata": {
    "collapsed": false
   },
   "outputs": [
    {
     "name": "stdout",
     "output_type": "stream",
     "text": [
      "POTS :  0.489520448636 3.87942872837\n",
      "MC to OnBeam :  0.126183642724\n",
      "Off to OnBeam:  2.13091331027\n",
      "Intime to OnBeam:  19.3358453803\n"
     ]
    }
   ],
   "source": [
    "tot_on = 541554 #525613\n",
    "tot_off = 218466 #379202\n",
    "tot_bnbcos = 384200 #101600\n",
    "tot_intime = 25772 #71084 #25772\n",
    "\n",
    "scale_intime = 10.279 \n",
    "int_per_1e20POT = 99035.2 \n",
    "dataPOT = 0.495 * (tot_on) / 547616  \n",
    "mcbnbcos_POT = float(tot_bnbcos)/int_per_1e20POT \n",
    "\n",
    "off_to_on = 1.23 * (382718./tot_off) * (tot_on/547616.)\n",
    "mc_to_on = dataPOT/mcbnbcos_POT\n",
    "intime_to_on = dataPOT/mcbnbcos_POT * scale_intime * tot_bnbcos/tot_intime\n",
    "\n",
    "print \"POTS : \", dataPOT, mcbnbcos_POT \n",
    "print \"MC to OnBeam : \", mc_to_on\n",
    "print \"Off to OnBeam: \",off_to_on\n",
    "print \"Intime to OnBeam: \", intime_to_on\n"
   ]
  },
  {
   "cell_type": "code",
   "execution_count": 3,
   "metadata": {
    "collapsed": false
   },
   "outputs": [
    {
     "name": "stdout",
     "output_type": "stream",
     "text": [
      "BNBCos Final :  36467.0727473\n",
      "BNBCos Final :  3255.41179865\n",
      "BNBCos Final :  814.641597429\n",
      "BNBCos Final :  77.6029402755\n"
     ]
    }
   ],
   "source": [
    "print \"BNBCos Final : \", 289000 * mc_to_on\n",
    "print \"BNBCos Final : \", 25799 * mc_to_on\n",
    "\n",
    "print \"BNBCos Final : \", 6456 * mc_to_on\n",
    "print \"BNBCos Final : \", 615 * mc_to_on"
   ]
  },
  {
   "cell_type": "code",
   "execution_count": 6,
   "metadata": {
    "collapsed": false
   },
   "outputs": [
    {
     "data": {
      "text/plain": [
       "0.08974358974358974"
      ]
     },
     "execution_count": 6,
     "metadata": {},
     "output_type": "execute_result"
    }
   ],
   "source": []
  },
  {
   "cell_type": "code",
   "execution_count": 30,
   "metadata": {
    "collapsed": false
   },
   "outputs": [
    {
     "name": "stdout",
     "output_type": "stream",
     "text": [
      "Intime all scaled:  498323.407141\n",
      "Intime sel2 scaled:  657.41874293\n",
      "Intime ratio scaled:  290.037680705\n",
      "Intime ratio scaled:  19.3358453803\n"
     ]
    }
   ],
   "source": [
    "print \"Intime all scaled: \", intime_to_on * tot_intime\n",
    "print \"Intime sel2 scaled: \", intime_to_on * 34 \n",
    "print \"Intime ratio scaled: \", intime_to_on * 15 \n",
    "print \"Intime ratio scaled: \", intime_to_on * 1 "
   ]
  },
  {
   "cell_type": "code",
   "execution_count": null,
   "metadata": {
    "collapsed": true
   },
   "outputs": [],
   "source": []
  }
 ],
 "metadata": {
  "kernelspec": {
   "display_name": "Python 2",
   "language": "python",
   "name": "python2"
  },
  "language_info": {
   "codemirror_mode": {
    "name": "ipython",
    "version": 2
   },
   "file_extension": ".py",
   "mimetype": "text/x-python",
   "name": "python",
   "nbconvert_exporter": "python",
   "pygments_lexer": "ipython2",
   "version": "2.7.10"
  }
 },
 "nbformat": 4,
 "nbformat_minor": 0
}
