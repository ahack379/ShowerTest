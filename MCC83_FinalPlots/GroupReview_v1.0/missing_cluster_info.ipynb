{
 "cells": [
  {
   "cell_type": "code",
   "execution_count": 1,
   "metadata": {
    "collapsed": false
   },
   "outputs": [
    {
     "name": "stderr",
     "output_type": "stream",
     "text": [
      "/Library/Python/2.7/site-packages/root_numpy/__init__.py:46: RuntimeWarning: numpy 1.12.1 is currently installed but you installed root_numpy against numpy 1.8.0rc1. Please consider reinstalling root_numpy for this numpy version.\n",
      "  RuntimeWarning)\n"
     ]
    }
   ],
   "source": [
    "#get larlite\n",
    "from larlite import larlite as ll\n",
    "from larlite import larutil as lu\n",
    "\n",
    "geo=lu.Geometry.GetME()\n",
    "geoH=lu.GeometryHelper.GetME()\n",
    "\n",
    "import ROOT\n",
    "\n",
    "#graphics \n",
    "import numpy as np\n",
    "import matplotlib\n",
    "import matplotlib.pyplot as plt\n",
    "import math\n",
    "import root_numpy as rn\n",
    "import pandas as pd\n",
    "import cv2\n",
    "\n",
    "matplotlib.rcParams['font.size'] = 20\n",
    "matplotlib.rcParams['font.family'] = 'serif'\n",
    "matplotlib.rcParams['font.weight'] = 'bold'\n",
    "matplotlib.rcParams['xtick.labelsize'] = 16\n",
    "matplotlib.rcParams['ytick.labelsize'] = 16\n",
    "\n",
    "%matplotlib inline"
   ]
  },
  {
   "cell_type": "code",
   "execution_count": 2,
   "metadata": {
    "collapsed": false
   },
   "outputs": [
    {
     "data": {
      "text/plain": [
       "True"
      ]
     },
     "execution_count": 2,
     "metadata": {},
     "output_type": "execute_result"
    }
   ],
   "source": [
    "#create storage manager\n",
    "sm = ll.storage_manager()\n",
    "sm.set_io_mode(ll.storage_manager.kREAD)\n",
    "#FILENAME='/Volumes/UBooNEDataMCC8/MCC8_3/OutputFiles/MCBNBCos/pi0_out.root'\n",
    "FILENAME='/Users/ah673/WorkArea/Root6LArLite/UserDev/LArOpenCV/App/mac/image_output.root'\n",
    "\n",
    "sm.add_in_filename(FILENAME)\n",
    "sm.open()"
   ]
  },
  {
   "cell_type": "code",
   "execution_count": 31,
   "metadata": {
    "collapsed": false
   },
   "outputs": [],
   "source": [
    "#plt.figure()\n",
    "#counts = plt.hist2d(phits.Wire,phits.PeakTime,bins=(15,28))\n",
    "#px = geoH.Point_3Dto2D(vtx.data(),plane)\n",
    "#pt=np.array([px.w/geoH.WireToCm(),px.t//geoH.TimeToCm()+800.0])\n",
    "#plt.plot(pt[0],pt[1],'*',markersize=20,color='yellow')\n"
   ]
  },
  {
   "cell_type": "code",
   "execution_count": 95,
   "metadata": {
    "collapsed": true
   },
   "outputs": [],
   "source": [
    "evt = 7\n",
    "sm.go_to(evt)\n",
    "\n",
    "event_hits     = sm.get_data(ll.data.kHit,\"gaushit\")\n",
    "event_clusters = sm.get_data(ll.data.kCluster,\"ImageClusterHit\")\n",
    "event_ass      = sm.get_data(ll.data.kAssociation,\"ImageClusterHit\")\n",
    "cluster_to_hit_ass = event_ass.association(event_clusters.id(),event_hits.id())\n",
    "event_vertex = sm.get_data(ll.data.kVertex,\"mcvertex\")\n",
    "event_user = sm.get_data(ll.data.kUserInfo,\"ImageClusterHit\")\n",
    "gausdata = rn.root2array(FILENAME,\n",
    "                            treename='hit_gaushit_tree',\n",
    "                            branches=['hit_gaushit_branch.vector<larlite::hit>.fPeakTime',\n",
    "                                      'hit_gaushit_branch.vector<larlite::hit>.fWireID.Wire',\n",
    "                                      'hit_gaushit_branch.vector<larlite::hit>.fWireID.Plane'])\n",
    "\n",
    "hits_df= pd.DataFrame({'Wire'      : gausdata[evt][1],\n",
    "                           'PeakTime'  : gausdata[evt][0],\n",
    "                           'Plane'     : gausdata[evt][2]})\n",
    "\n",
    "    \n",
    "#User info contains lots of stuff, but lets filter it by ID string\n",
    "sbcplane0 = [event_user[s] for s in xrange(event_user.size()) if event_user[s].get_string(\"ID\") == 'Algo_pc_Plane_0_clusters'][0]\n",
    "sbcplane1 = [event_user[s] for s in xrange(event_user.size()) if event_user[s].get_string(\"ID\") == 'Algo_pc_Plane_1_clusters'][0]\n",
    "sbcplane2 = [event_user[s] for s in xrange(event_user.size()) if event_user[s].get_string(\"ID\") == 'Algo_pc_Plane_2_clusters'][0]\n",
    "    \n",
    "#User info contains lots of stuff, but lets filter it by ID string\n",
    "plane0 = [event_user[s] for s in xrange(event_user.size()) if event_user[s].get_string(\"ID\") == 'Algo_cwo_Plane_0_clusters'][0]\n",
    "plane1 = [event_user[s] for s in xrange(event_user.size()) if event_user[s].get_string(\"ID\") == 'Algo_cwo_Plane_1_clusters'][0]\n",
    "plane2 = [event_user[s] for s in xrange(event_user.size()) if event_user[s].get_string(\"ID\") == 'Algo_cwo_Plane_2_clusters'][0]\n",
    " \n",
    "#convex hull per cluster\n",
    "roiplane0 = [event_user[s] for s in xrange(event_user.size()) if event_user[s].get_string(\"ID\") == 'Algo_cwo_Plane_0_roi_bounds'][0]\n",
    "roiplane1 = [event_user[s] for s in xrange(event_user.size()) if event_user[s].get_string(\"ID\") == 'Algo_cwo_Plane_1_roi_bounds'][0]\n",
    "roiplane2 = [event_user[s] for s in xrange(event_user.size()) if event_user[s].get_string(\"ID\") == 'Algo_cwo_Plane_2_roi_bounds'][0] \n",
    "\n",
    "plane = 2 \n",
    "sbc_data=event_user[plane]\n",
    "hsv = plt.get_cmap('jet')\n",
    "lors = hsv(np.linspace(0, 1.0, cluster_to_hit_ass.size()))\n",
    "\n",
    "vtx=ROOT.std.vector('double')()\n",
    "vtx.resize(3)\n",
    "vtx[0]=event_vertex[0].X()\n",
    "vtx[1]=event_vertex[0].Y()\n",
    "vtx[2]=event_vertex[0].Z()\n",
    "\n",
    "exec(\"roi_data = roiplane%s\"%plane)  \n",
    "bbx=np.array(roi_data.get_darray('roi_bounds_x'))\n",
    "bby=np.array(roi_data.get_darray('roi_bounds_y'))\n",
    "\n",
    "phits = hits_df.query(\"Plane=={}\".format(plane))\n",
    "\n",
    "xmax = phits.Wire.max() \n",
    "ymax = int(phits.PeakTime.max()) "
   ]
  },
  {
   "cell_type": "code",
   "execution_count": 96,
   "metadata": {
    "collapsed": false
   },
   "outputs": [
    {
     "name": "stdout",
     "output_type": "stream",
     "text": [
      "0.0557179413736\n",
      "0.300000011921\n"
     ]
    }
   ],
   "source": [
    "print geoH.TimeToCm() #[cm/tick]\n",
    "print geoH.WireToCm() # [cm/wire]"
   ]
  },
  {
   "cell_type": "code",
   "execution_count": 156,
   "metadata": {
    "collapsed": false
   },
   "outputs": [
    {
     "data": {
      "text/plain": [
       "<matplotlib.text.Text at 0x13a7c7d50>"
      ]
     },
     "execution_count": 156,
     "metadata": {},
     "output_type": "execute_result"
    },
    {
     "data": {
      "image/png": "[encoded data removed]",
      "text/plain": [
       "<matplotlib.figure.Figure at 0x13ab452d0>"
      ]
     },
     "metadata": {},
     "output_type": "display_data"
    }
   ],
   "source": [
    "counts, bins, _ = np.histogram2d(phits.Wire,phits.PeakTime,bins=(xmax,ymax),range=((0,xmax+1),(0,ymax+1)))\n",
    "px = geoH.Point_3Dto2D(vtx.data(),plane)\n",
    "center = (px.t//geoH.TimeToCm()+800.0,px.w/geoH.WireToCm())\n",
    "rad =  350 #(bby.max() - bby.min())\n",
    "out = cv2.linearPolar(counts, center, int(rad), cv2.WARP_FILL_OUTLIERS)\n",
    "\n",
    "\n",
    "fig,ax=plt.subplots(figsize=(8,6))\n",
    "\n",
    "ax.set_yticklabels([])\n",
    "ax.set_xticklabels([])\n",
    "\n",
    "plt.plot(phits.PeakTime,phits.Wire,'o',color='black',markersize=1)#,alpha=0.2)   \n",
    "plt.plot(center[0],center[1],'o',markersize=8,color='cyan')\n",
    "#plt.gca().invert_yaxis()\n",
    "plt.ylim(pt[0] - rad, pt[0] + rad)    \n",
    "plt.xlim(pt[1] - rad, pt[1] + rad)  \n",
    "\n",
    "ax.invert_yaxis()\n",
    "plt.grid()\n",
    "\n",
    "plt.xlabel('Time [tick]',fontsize=16,weight='bold')\n",
    "plt.ylabel('Wire [wire]',fontsize=16,weight='bold')\n",
    "#plt.axhline(259)"
   ]
  },
  {
   "cell_type": "code",
   "execution_count": 157,
   "metadata": {
    "collapsed": false
   },
   "outputs": [
    {
     "name": "stdout",
     "output_type": "stream",
     "text": [
      "(1022,)\n",
      "(1022,)\n"
     ]
    },
    {
     "data": {
      "image/png": "[encoded data removed]",
      "text/plain": [
       "<matplotlib.figure.Figure at 0x13a7eacd0>"
      ]
     },
     "metadata": {},
     "output_type": "display_data"
    }
   ],
   "source": [
    "xedges = [i for i in xrange(ymax)]\n",
    "yedges = [i for i in xrange(xmax)]\n",
    "Hmasked = np.ma.masked_where(out==0,out) # Mask pixels with a value of zero\n",
    "print Hmasked[Hmasked!=0].shape\n",
    "print out[out!=0].shape\n",
    "\n",
    "fig,ax=plt.subplots(figsize=(8,6))\n",
    "plt.pcolormesh(xedges,yedges,Hmasked) #[:xlim][:ylim])\n",
    "plt.ylim(0,90)\n",
    "plt.gca().invert_yaxis()\n",
    "ax.set_xticklabels([])\n",
    "plt.ylabel('Angle [deg]',fontsize=15,weight='bold')\n",
    "plt.xlabel('Radius [arb. units]',fontsize=15,weight='bold')\n",
    "plt.plot(0,0,'o',markersize=15,color='cyan')\n",
    "plt.grid(True)\n",
    "#print Hmasked[Hmasked != 0]"
   ]
  },
  {
   "cell_type": "code",
   "execution_count": null,
   "metadata": {
    "collapsed": true
   },
   "outputs": [],
   "source": []
  },
  {
   "cell_type": "code",
   "execution_count": 22,
   "metadata": {
    "collapsed": false,
    "scrolled": false
   },
   "outputs": [
    {
     "data": {
      "image/png": "[encoded data removed]",
      "text/plain": [
       "<matplotlib.figure.Figure at 0x15e9a9f90>"
      ]
     },
     "metadata": {},
     "output_type": "display_data"
    }
   ],
   "source": [
    "while True:\n",
    "    evt = 1\n",
    "    sm.go_to(evt)\n",
    "\n",
    "    #get hits and clusters\n",
    "    event_hits     = sm.get_data(ll.data.kHit,\"gaushit\")\n",
    "    event_clusters = sm.get_data(ll.data.kCluster,\"ImageClusterHit\")\n",
    "    event_ass      = sm.get_data(ll.data.kAssociation,\"ImageClusterHit\")\n",
    "    cluster_to_hit_ass = event_ass.association(event_clusters.id(),event_hits.id())\n",
    "    event_vertex = sm.get_data(ll.data.kVertex,\"mcvertex\")\n",
    "    event_user = sm.get_data(ll.data.kUserInfo,\"ImageClusterHit\")\n",
    "    gausdata = rn.root2array(FILENAME,\n",
    "                            treename='hit_gaushit_tree',\n",
    "                            branches=['hit_gaushit_branch.vector<larlite::hit>.fPeakTime',\n",
    "                                      'hit_gaushit_branch.vector<larlite::hit>.fWireID.Wire',\n",
    "                                      'hit_gaushit_branch.vector<larlite::hit>.fWireID.Plane'])\n",
    "\n",
    "    hits_df= pd.DataFrame({'Wire'      : gausdata[evt][1],\n",
    "                           'PeakTime'  : gausdata[evt][0],\n",
    "                           'Plane'     : gausdata[evt][2]})\n",
    "\n",
    "    \n",
    "    #User info contains lots of stuff, but lets filter it by ID string\n",
    "    sbcplane0 = [event_user[s] for s in xrange(event_user.size()) if event_user[s].get_string(\"ID\") == 'Algo_pc_Plane_0_clusters'][0]\n",
    "    sbcplane1 = [event_user[s] for s in xrange(event_user.size()) if event_user[s].get_string(\"ID\") == 'Algo_pc_Plane_1_clusters'][0]\n",
    "    sbcplane2 = [event_user[s] for s in xrange(event_user.size()) if event_user[s].get_string(\"ID\") == 'Algo_pc_Plane_2_clusters'][0]\n",
    "    \n",
    "    #User info contains lots of stuff, but lets filter it by ID string\n",
    "    plane0 = [event_user[s] for s in xrange(event_user.size()) if event_user[s].get_string(\"ID\") == 'Algo_cwo_Plane_0_clusters'][0]\n",
    "    plane1 = [event_user[s] for s in xrange(event_user.size()) if event_user[s].get_string(\"ID\") == 'Algo_cwo_Plane_1_clusters'][0]\n",
    "    plane2 = [event_user[s] for s in xrange(event_user.size()) if event_user[s].get_string(\"ID\") == 'Algo_cwo_Plane_2_clusters'][0]\n",
    " \n",
    "    #convex hull per cluster\n",
    "    roiplane0 = [event_user[s] for s in xrange(event_user.size()) if event_user[s].get_string(\"ID\") == 'Algo_cwo_Plane_0_roi_bounds'][0]\n",
    "    roiplane1 = [event_user[s] for s in xrange(event_user.size()) if event_user[s].get_string(\"ID\") == 'Algo_cwo_Plane_1_roi_bounds'][0]\n",
    "    roiplane2 = [event_user[s] for s in xrange(event_user.size()) if event_user[s].get_string(\"ID\") == 'Algo_cwo_Plane_2_roi_bounds'][0]\n",
    "\n",
    "    #Show the ImageClusters\n",
    "    for plane in [0,1,2]:\n",
    "        \n",
    "        plane = 2 \n",
    "        sbc_data=event_user[plane]\n",
    "        hsv = plt.get_cmap('jet')\n",
    "        lors = hsv(np.linspace(0, 1.0, cluster_to_hit_ass.size()))\n",
    "\n",
    "        fig,ax=plt.subplots(figsize=(10*2,6*2))\n",
    "\n",
    "        phits = hits_df.query(\"Plane=={}\".format(plane))\n",
    "\n",
    "        \n",
    "        ax.plot(phits.Wire,phits.PeakTime,'o',color='black',markersize=1)#,alpha=0.2)\n",
    "        \n",
    "        exec(\"sbc_data = sbcplane%s\"%plane)\n",
    "        nsbc_clusters = sbc_data.get_int(\"NClusters\")\n",
    "        \n",
    "#         for c in xrange(nsbc_clusters):\n",
    "#             xx=np.array(sbc_data.get_darray('ClusterID_{}_contour_x'.format(c)))\n",
    "#             yy=np.array(sbc_data.get_darray('ClusterID_{}_contour_y'.format(c)))\n",
    "#             xx=np.append(xx,xx[0])\n",
    "#             yy=np.append(yy,yy[0])\n",
    "#             plt.plot(yy,xx,':',lw=2,color='Grey')\n",
    "      \n",
    "        # plot each cluster and userinfo\n",
    "        for ix,cluster in enumerate(cluster_to_hit_ass):\n",
    "\n",
    "            ##############################\n",
    "            #get the hits for this clusters\n",
    "            slice_=np.array(cluster)\n",
    "            if event_clusters[ix].Plane().Plane != plane: continue\n",
    "            if slice_.size == 0: continue\n",
    "\n",
    "            hslice = hits_df.iloc[slice_]\n",
    "            ax.plot(hslice.Wire,hslice.PeakTime,'o',color='black',markersize=3)\n",
    "\n",
    "            ##############################\n",
    "            #call user_info get_darray, for the contour   \n",
    "            exec(\"cluster_data = plane%s\"%plane)\n",
    "\n",
    "            cid = event_clusters[ix].ID()\n",
    "            xx=np.array(cluster_data.get_darray('ClusterID_{}_contour_x'.format(cid)))\n",
    "            yy=np.array(cluster_data.get_darray('ClusterID_{}_contour_y'.format(cid)))\n",
    "\n",
    "            xx=np.append(xx,xx[0])\n",
    "            yy=np.append(yy,yy[0])\n",
    "\n",
    "            #plt.plot(yy,xx,'-',lw=2)\n",
    "\n",
    "            ##############################\n",
    "        vtx=ROOT.std.vector('double')()\n",
    "        vtx.resize(3)\n",
    "        vtx[0]=event_vertex[0].X()\n",
    "        vtx[1]=event_vertex[0].Y()\n",
    "        vtx[2]=event_vertex[0].Z()\n",
    "        px = geoH.Point_3Dto2D(vtx.data(),plane)\n",
    "        pt=np.array([px.w/geoH.WireToCm(),px.t//geoH.TimeToCm()+800.0])\n",
    "\n",
    "        #ax.plot(pt[0],pt[1],'*',markersize=15,color='yellow')\n",
    "            \n",
    "        exec(\"roi_data = roiplane%s\"%plane)  \n",
    "        bbx=np.array(roi_data.get_darray('roi_bounds_x'))\n",
    "        bby=np.array(roi_data.get_darray('roi_bounds_y'))\n",
    "        \n",
    "        #img = np.zeros((int(bbx.max() - bbx.min()), int(bby.max() - bby.min()), 1), dtype = \"uint8\")\n",
    "        #ax.set_xlim(bbx.min(),bbx.max())\n",
    "        #ax.set_ylim(bby.min(),bby.max())\n",
    "\n",
    "        #plt.grid()\n",
    "        ax.set_title(\"Event {} Plane {}\".format(evt,plane),fontweight='bold',fontsize=30)\n",
    "        plt.show()\n",
    "        break\n",
    "    break"
   ]
  },
  {
   "cell_type": "code",
   "execution_count": 57,
   "metadata": {
    "collapsed": false
   },
   "outputs": [
    {
     "name": "stdout",
     "output_type": "stream",
     "text": [
      "[[0 0 0 ..., 0 0 0]\n",
      " [0 0 0 ..., 0 0 0]\n",
      " [0 0 0 ..., 0 0 0]\n",
      " ..., \n",
      " [0 0 0 ..., 0 0 0]\n",
      " [0 0 0 ..., 0 0 0]\n",
      " [0 0 0 ..., 0 0 0]]\n"
     ]
    }
   ],
   "source": [
    "img = np.zeros((256,256,1), dtype = \"uint8\")\n",
    "print img"
   ]
  },
  {
   "cell_type": "code",
   "execution_count": null,
   "metadata": {
    "collapsed": true
   },
   "outputs": [],
   "source": []
  }
 ],
 "metadata": {
  "kernelspec": {
   "display_name": "Python 2",
   "language": "python",
   "name": "python2"
  },
  "language_info": {
   "codemirror_mode": {
    "name": "ipython",
    "version": 2
   },
   "file_extension": ".py",
   "mimetype": "text/x-python",
   "name": "python",
   "nbconvert_exporter": "python",
   "pygments_lexer": "ipython2",
   "version": "2.7.10"
  }
 },
 "nbformat": 4,
 "nbformat_minor": 0
}
