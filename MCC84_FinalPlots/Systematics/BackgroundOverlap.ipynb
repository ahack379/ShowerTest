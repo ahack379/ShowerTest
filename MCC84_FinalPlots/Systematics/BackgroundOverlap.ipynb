{
 "cells": [
  {
   "cell_type": "code",
   "execution_count": 1,
   "metadata": {
    "collapsed": false
   },
   "outputs": [
    {
     "name": "stderr",
     "output_type": "stream",
     "text": [
      "/Library/Python/2.7/site-packages/root_numpy/__init__.py:46: RuntimeWarning: numpy 1.12.1 is currently installed but you installed root_numpy against numpy 1.8.0rc1. Please consider reinstalling root_numpy for this numpy version.\n",
      "  RuntimeWarning)\n"
     ]
    }
   ],
   "source": [
    "import sys,array\n",
    "from ROOT import TFile, TCanvas\n",
    "import root_numpy as rn\n",
    "import numpy as np\n",
    "import math\n",
    "import pandas as pd\n",
    "import matplotlib\n",
    "import matplotlib.pyplot as plt\n",
    "\n",
    "%matplotlib inline\n",
    "\n",
    "#matplotlib.rc('text', usetex=True)\n",
    "#matplotlib.rcParams['text.latex.preamble']=[r\"\\usepackage{xfrac,fontspec,unicode-math}\"]\n",
    "#matplotlib.rcParams['text.latex.preamble']=[r\"\\usepackage{mathastext}\"]\n",
    "\n",
    "font = 22   \n",
    "legendfont = 18\n",
    "matplotlib.rc('font',weight='bold')\n",
    "matplotlib.rc('font',size=font)\n",
    "#matplotlib.rcParams['text.latex.preamble'] = [r'\\boldmath']"
   ]
  },
  {
   "cell_type": "code",
   "execution_count": 30,
   "metadata": {
    "collapsed": true
   },
   "outputs": [],
   "source": [
    "r_cv = rn.root2array('BT_Files/Sel2/BT_backgrounds_cv.root',treename='tree')\n",
    "df_cv = pd.DataFrame(r_cv)"
   ]
  },
  {
   "cell_type": "code",
   "execution_count": 46,
   "metadata": {
    "collapsed": false
   },
   "outputs": [],
   "source": [
    "cc1pi0_cv_v = df_cv.query('bkgd_id == 2')\n",
    "ccgamma_cv_v = df_cv.query('bkgd_id == 10')\n",
    "cccex_cv_v = df_cv.query('bkgd_id == 8 ')\n",
    "ccoth_cv_v = df_cv.query('bkgd_id == 12 or bkgd_id == 11')\n",
    "nc1pi0_cv_v = df_cv.query('bkgd_id == 3')\n",
    "ncoth_cv_v = df_cv.query('bkgd_id == 13 or bkgd_id == 9')\n",
    "cc1pi0_outFV_cv_v = df_cv.query('bkgd_id == 4')\n",
    "multpi0_cv_v = df_cv.query('bkgd_id == 5')\n",
    "nue_cv_v = df_cv.query('bkgd_id == 6')\n",
    "antinumu_cv_v = df_cv.query('bkgd_id == 7')\n",
    "cos_cv_v = df_cv.query('bkgd_id == 1')\n",
    "\n",
    "bkgd_cv_v = [cc1pi0_cv_v,ccgamma_cv_v,cccex_cv_v,ccoth_cv_v,nc1pi0_cv_v,\\\n",
    "             ncoth_cv_v,cc1pi0_outFV_cv_v,\\\n",
    "             multpi0_cv_v,nue_cv_v,antinumu_cv_v,cos_cv_v]\n",
    "\n",
    "#print bkgd_cv_v[0].shape\n",
    "#print len(bkgd_name_v), len(bkgd_cv_v), len(bkgd_v)"
   ]
  },
  {
   "cell_type": "code",
   "execution_count": 32,
   "metadata": {
    "collapsed": true
   },
   "outputs": [],
   "source": [
    "\n",
    "r_ext = rn.root2array('BT_Files/Sel2/BT_backgrounds_enhancedexttpcvis.root',treename='tree')\n",
    "df_ext = pd.DataFrame(r_ext)"
   ]
  },
  {
   "cell_type": "code",
   "execution_count": 33,
   "metadata": {
    "collapsed": false
   },
   "outputs": [
    {
     "name": "stdout",
     "output_type": "stream",
     "text": [
      "(4021, 112)\n",
      "(4136, 112)\n"
     ]
    }
   ],
   "source": [
    "print df_cv.shape\n",
    "print df_ext.shape\n",
    "\n",
    "cv_event_v = (df_cv.event_id.values).tolist()\n",
    "cv_subrun_v = (df_cv.subrun_id.values).tolist()"
   ]
  },
  {
   "cell_type": "code",
   "execution_count": 36,
   "metadata": {
    "collapsed": false
   },
   "outputs": [],
   "source": [
    "# overlap = []\n",
    "\n",
    "# for i in xrange(df_ext.shape[0]):\n",
    "#     #print i\n",
    "#     evt_i = df_ext.event_id.values[i]\n",
    "#     sr_i = df_ext.subrun_id.values[i]\n",
    "\n",
    "#     if evt_i in cv_event_v :\n",
    "#         idx = cv_event_v.index(evt_i)\n",
    "#         if sr_i == cv_subrun_v[idx]:\n",
    "#             overlap.append(idx)"
   ]
  },
  {
   "cell_type": "code",
   "execution_count": 37,
   "metadata": {
    "collapsed": false
   },
   "outputs": [
    {
     "name": "stdout",
     "output_type": "stream",
     "text": [
      "302\n"
     ]
    }
   ],
   "source": [
    "print len(overlap)"
   ]
  },
  {
   "cell_type": "code",
   "execution_count": 41,
   "metadata": {
    "collapsed": true
   },
   "outputs": [],
   "source": [
    "def getOverlap(df_i):\n",
    "    overlap = []\n",
    "    #print 'Overlap for sample %s, on background %s'%(sample_i,bkgd_i)\n",
    "    for i in xrange(df_i.shape[0]):\n",
    "        evt_i = df_i.event_id.values[i]\n",
    "        sr_i = df_i.subrun_id.values[i]\n",
    "\n",
    "        if evt_i in cv_event_v :\n",
    "            idx = cv_event_v.index(evt_i)\n",
    "            if sr_i == cv_subrun_v[idx]:\n",
    "                overlap.append(idx)\n",
    "                \n",
    "    return overlap"
   ]
  },
  {
   "cell_type": "code",
   "execution_count": 48,
   "metadata": {
    "collapsed": false
   },
   "outputs": [
    {
     "name": "stdout",
     "output_type": "stream",
     "text": [
      "\n",
      "\n",
      "\n",
      "EnhancedEXTTPCVis\n",
      "\n",
      "CC1pi0\n",
      "CV evts: 261\n",
      "Var evts: 274\n",
      "Overlap:  152\n",
      "\n",
      "CCGamma\n",
      "CV evts: 10\n",
      "Var evts: 5\n",
      "Overlap:  5\n",
      "\n",
      "CCCex\n",
      "CV evts: 57\n",
      "Var evts: 72\n",
      "Overlap:  54\n",
      "\n",
      "CCOth\n",
      "CV evts: 3340\n",
      "Var evts: 3404\n",
      "Overlap:  2036\n",
      "\n",
      "NCpi0\n",
      "CV evts: 12\n",
      "Var evts: 20\n",
      "Overlap:  4\n",
      "\n",
      "NC0Pi0\n",
      "CV evts: 83\n",
      "Var evts: 92\n",
      "Overlap:  22\n",
      "\n",
      "CC1pi0_OutFV\n",
      "CV evts: 16\n",
      "Var evts: 21\n",
      "Overlap:  6\n",
      "\n",
      "multpi0\n",
      "CV evts: 29\n",
      "Var evts: 25\n",
      "Overlap:  15\n",
      "\n",
      "nue\n",
      "CV evts: 7\n",
      "Var evts: 9\n",
      "Overlap:  2\n",
      "\n",
      "antinumu\n",
      "CV evts: 27\n",
      "Var evts: 27\n",
      "Overlap:  13\n",
      "\n",
      "cos\n",
      "CV evts: 179\n",
      "Var evts: 187\n",
      "Overlap:  21\n"
     ]
    }
   ],
   "source": [
    "df_v = [df_ext]\n",
    "sample_v = ['EnhancedEXTTPCVis']\n",
    "\n",
    "bkgd_name_v = ['CC1pi0','CCGamma','CCCex','CCOth','NCpi0','NC0Pi0','CC1pi0_OutFV',\\\n",
    "               'multpi0','nue','antinumu','cos']\n",
    "\n",
    "for i in xrange(len(df_v)):\n",
    "    print \n",
    "    print '\\n\\n%s'%sample_v[i]\n",
    "    \n",
    "    df = df_v[i]\n",
    "    cc1pi0_v = df.query('bkgd_id == 2')\n",
    "    ccgamma_v = df.query('bkgd_id == 10')\n",
    "    cccex_v = df.query('bkgd_id == 8 ')\n",
    "    ccoth_v = df.query('bkgd_id == 12 or bkgd_id == 11')\n",
    "    nc1pi0_v = df.query('bkgd_id == 3')\n",
    "    ncoth_v = df.query('bkgd_id == 13 or bkgd_id == 9')\n",
    "    cc1pi0_outFV_v = df.query('bkgd_id == 4')\n",
    "    multpi0_v = df.query('bkgd_id == 5')\n",
    "    nue_v = df.query('bkgd_id == 6')\n",
    "    antinumu_v = df.query('bkgd_id == 7')\n",
    "    cos_v = df.query('bkgd_id == 1')\n",
    "\n",
    "    bkgd_v = [cc1pi0_v,ccgamma_v,cccex_v,ccoth_v,nc1pi0_v,ncoth_v,cc1pi0_outFV_v,\\\n",
    "             multpi0_v,nue_v,antinumu_v,cos_v]\n",
    "    \n",
    "    for j in xrange(len(bkgd_v)):\n",
    "        overlap = getOverlap(bkgd_v[j])\n",
    "        print '\\n%s'%bkgd_name_v[j]\n",
    "        print 'CV evts: %d'%(bkgd_cv_v[j].shape[0])\n",
    "        print 'Var evts: %d'%(bkgd_v[j].shape[0])\n",
    "        print 'Overlap: ', len(overlap)"
   ]
  },
  {
   "cell_type": "code",
   "execution_count": 55,
   "metadata": {
    "collapsed": false
   },
   "outputs": [
    {
     "name": "stdout",
     "output_type": "stream",
     "text": [
      "[2737 2358 2299 2706 2950 2610 2591 2929 2984 2520 2493 2608]\n",
      "[2287 2659 2572 2877 2992 2284 2520 2452 2335 3090 2536 2289 2837 2608 2954\n",
      " 2223 2299 2358 3114 2883]\n",
      "[2212  211 2212  211   22  211  211   22 2212 -211 -211 -211]\n",
      "[  22 2212   22 -211 2212 -211 -211 2212   22   22  321 -211  -13   13 2212\n",
      " 2212   22  211 2212   22]\n"
     ]
    }
   ],
   "source": [
    "#print nue_cv_v.subrun_id.values\n",
    "#print nue_v.subrun_id.values\n",
    "\n",
    "print nc1pi0_cv_v.subrun_id.values\n",
    "print nc1pi0_v.subrun_id.values\n",
    "\n",
    "print nc1pi0_cv_v.mu_pdg.values\n",
    "print nc1pi0_v.mu_pdg.values\n",
    "\n"
   ]
  },
  {
   "cell_type": "code",
   "execution_count": null,
   "metadata": {
    "collapsed": true
   },
   "outputs": [],
   "source": []
  }
 ],
 "metadata": {
  "kernelspec": {
   "display_name": "Python 2",
   "language": "python",
   "name": "python2"
  },
  "language_info": {
   "codemirror_mode": {
    "name": "ipython",
    "version": 2
   },
   "file_extension": ".py",
   "mimetype": "text/x-python",
   "name": "python",
   "nbconvert_exporter": "python",
   "pygments_lexer": "ipython2",
   "version": "2.7.10"
  }
 },
 "nbformat": 4,
 "nbformat_minor": 0
}
