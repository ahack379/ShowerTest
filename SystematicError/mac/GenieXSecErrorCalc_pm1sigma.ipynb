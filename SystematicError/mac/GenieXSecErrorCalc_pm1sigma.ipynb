{
 "cells": [
  {
   "cell_type": "code",
   "execution_count": 1,
   "metadata": {
    "collapsed": true
   },
   "outputs": [],
   "source": [
    "import numpy as np\n",
    "%matplotlib inline"
   ]
  },
  {
   "cell_type": "code",
   "execution_count": 2,
   "metadata": {
    "collapsed": true
   },
   "outputs": [],
   "source": [
    "N_nom = 615\n",
    "B_nom = 293 #231\n",
    "e_nom = 0.05976243504083148"
   ]
  },
  {
   "cell_type": "code",
   "execution_count": 3,
   "metadata": {
    "collapsed": false
   },
   "outputs": [
    {
     "name": "stdout",
     "output_type": "stream",
     "text": [
      "32 32 32 32\n"
     ]
    }
   ],
   "source": [
    "# From complete selection chain\n",
    "\n",
    "num_min_v  = [321.597, 322.584, 322, 322, 315.782, 328.317, 318.721, 325.307, 326.305, 317.714, 323.383, 320.984, 328.498, 314.952, 326.953, 317.047, 297.234, 345.541, 335.876, 308.029, 324.274, 319.91, 324.103, 319.462, 325.364, 319.928, 322.368, 321.713, 322, 322, 350, 294]\n",
    "num_plus_v = [322.584, 322, 322, 315.782, 328.317, 318.721, 325.307, 326.305, 317.714, 323.383, 320.984, 328.498, 314.952, 326.953, 317.047, 297.234, 345.541, 335.876, 308.029, 324.274, 319.91, 324.103, 319.462, 325.364, 319.928, 322.368, 321.713, 322, 322, 350, 294, 328]\n",
    "\n",
    "bkgd_min_v = [292.218, 293.58, 293, 293, 290.396, 295.579, 294.662, 291.758, 294.295, 291.723, 291.19, 295.07, 302.68, 285.151, 294.759, 291.241, 280.693, 306.633, 293.369, 292.774, 293.726, 292.316, 305.954, 282.691, 298.674, 287.861, 294.648, 291.343, 293, 293, 301, 285]\n",
    "bkgd_plus_v = [293.58, 293, 293, 290.396, 295.579, 294.662, 291.758, 294.295, 291.723, 291.19, 295.07, 302.68, 285.151, 294.759, 291.241, 280.693, 306.633, 293.369, 292.774, 293.726, 292.316, 305.954, 282.691, 298.674, 287.861, 294.648, 291.343, 293, 293, 301, 285, 300.5]\n",
    "\n",
    "nom_v = [N_nom for i in xrange(len(num_min_v))]\n",
    "bkgd_nom_v = [B_nom for i in xrange(len(num_min_v))]\n",
    "\n",
    "gen_v = [\"FermiGasModelKf\", \"FermiGasModelSf\", \"IntraNukeNabs\", \"IntraNukeNcex\", \"IntraNukeNel\", \"IntraNukeNinel\",\\\n",
    "         \"IntraNukeNmfp\", \"IntraNukeNpi\", \"IntraNukePIabs\", \"IntraNukePIcex\", \"IntraNukePIel\", \"IntraNukePIinel\",\\\n",
    "         \"IntraNukePImfp\", \"IntraNukePIpi\", \"NC\", \"NonResRvbarp1pi\", \"NonResRvbarppi\",\"NonResRvp1pi\", \"NonResRvppi\",\\\n",
    "         \"ResDecayEta\", \"ResDecayGamma\", \"ResDecayTheta\", \"ccresAxial\", \"ccresVector\", \"cohMA\", \"cohR0\", \"ncelAxial\",\\\n",
    "         \"ncelEta\", \"ncresAxial\", \"ncresVector\", \"qema\", \"qevec\"]\n",
    "\n",
    "print len(num_min_v), len(num_plus_v), len(bkgd_plus_v), len(bkgd_min_v)\n"
   ]
  },
  {
   "cell_type": "code",
   "execution_count": 4,
   "metadata": {
    "collapsed": true
   },
   "outputs": [],
   "source": [
    "# From analysis on full weights file\n",
    "#denom_min_v  = [5378.39, 5382, 5350.2, 5362.84, 5305.15, 5340.56, 5664.19, 5520.81, 3827.41, 6297.12, 5434.48,\\\n",
    "#                5651.83, 6409.47, 5385.23, 5382, 6705, 5734.5, 5425.5, 5923.5, 5241.33, 5363.66, 6034.79, 7059.05,\\\n",
    "#                6565.65, 5382, 5382, 5382, 5382, 5382, 5382, 5589.33, 5362.14]\n",
    "\n",
    "#denom_plus_v = [5382.94, 5382, 5413.77, 5394.89, 5455.83, 5417.77, 5076.33, 5243.19, 6857.07, 4766.6, 5332.8,\\\n",
    "#                5149.17, 5189.87, 5379.55, 5382, 4500, 5147, 5353, 5021, 5475.77, 5394.13, 4976.67, 3279.35, 4355.9,\\\n",
    "#                5382, 5382, 5382, 5382, 5382, 5382, 5312.81, 5401.87]\n",
    "#denom_diff_v = [6 for i in xrange(len(denom_min_v))]\n",
    "#denom_min_v = np.array(denom_min_v) + np.array(denom_diff_v)\n",
    "#denom_plus_v = np.array(denom_plus_v) + np.array(denom_diff_v)\n",
    "\n",
    "denom_min_v = [ 5375.38, 5376, 5365.69, 5367.88, 5352.39, 5361.66, 5475.39, 5422.62, 4865.06,\\\n",
    "               5683.23, 5393.75, 5463.28, 5485.32, 5377.32, 5376, 5818.5, 5493, 5390.5, 5552.5,\\\n",
    "               5329.38, 5370, 5509.55, 6008.12, 5760, 5376, 5376, 5376, 5376, 5376, 5376,\\\n",
    "               5439.19, 5369.23]\n",
    "\n",
    "denom_plus_v = [5376.48, 5376, 5386.3, 5384.14, 5399.27, 5390.52, 5273.31, 5329.38, 5878.08,\\\n",
    "                5067.78, 5358.66, 5285.13, 5305.79, 5374.77, 5376, 4933.5, 5259, 5361.5,\\\n",
    "                5199.5, 5422.63, 5381.99, 5242.46, 4680.5, 5009.45, 5376, 5376, 5376, 5376,\\\n",
    "                5376, 5376, 5345.52, 5382.77]\n",
    "\n"
   ]
  },
  {
   "cell_type": "code",
   "execution_count": 5,
   "metadata": {
    "collapsed": false
   },
   "outputs": [],
   "source": [
    "diff_nom_v = np.array(nom_v) - np.array(bkgd_nom_v)\n",
    "diff_min_v = np.array(nom_v) - np.array(bkgd_min_v)\n",
    "diff_plus_v = np.array(nom_v) - np.array(bkgd_plus_v)\n",
    "\n",
    "eff_nom_v = [e_nom for i in xrange(len(num_min_v))]\n",
    "eff_min_v = np.array(num_min_v)/np.array(denom_min_v)\n",
    "eff_plus_v = np.array(num_plus_v)/np.array(denom_plus_v)"
   ]
  },
  {
   "cell_type": "code",
   "execution_count": 6,
   "metadata": {
    "collapsed": false
   },
   "outputs": [
    {
     "name": "stdout",
     "output_type": "stream",
     "text": [
      "9643.70546318\n",
      "4553.80577428\n"
     ]
    }
   ],
   "source": [
    "print (615. - 209)/0.0421\n",
    "print (615. - 268)/0.07620"
   ]
  },
  {
   "cell_type": "code",
   "execution_count": 7,
   "metadata": {
    "collapsed": false
   },
   "outputs": [],
   "source": [
    "xsec_plus_v = diff_plus_v / eff_plus_v\n",
    "xsec_min_v = diff_min_v / eff_min_v\n",
    "\n",
    "xsec_nom_v = diff_nom_v / eff_nom_v"
   ]
  },
  {
   "cell_type": "code",
   "execution_count": 8,
   "metadata": {
    "collapsed": true
   },
   "outputs": [],
   "source": [
    "percent_plus = abs(xsec_nom_v - xsec_plus_v)/xsec_nom_v\n",
    "percent_min = abs(xsec_nom_v - xsec_min_v)/xsec_nom_v"
   ]
  },
  {
   "cell_type": "code",
   "execution_count": 9,
   "metadata": {
    "collapsed": false
   },
   "outputs": [],
   "source": [
    "for i in xrange(len(gen_v)):\n",
    "    if percent_plus[i]*100 > 30 or percent_min[i]*100 > 30:\n",
    "        print gen_v[i], \" +: %.2f%%; -: %.2f%%\" %(percent_plus[i]*100,percent_min[i]*100)\n",
    "        print gen_v[i], i"
   ]
  },
  {
   "cell_type": "code",
   "execution_count": 10,
   "metadata": {
    "collapsed": false
   },
   "outputs": [
    {
     "name": "stdout",
     "output_type": "stream",
     "text": [
      "FermiGasModelKf  : 0.573873%\n",
      "FermiGasModelSf  : 0.582750%\n",
      "IntraNukeNabs  : 0.414068%\n",
      "IntraNukeNcex  : 2.720057%\n",
      "IntraNukeNel  : 2.506075%\n",
      "IntraNukeNinel  : 3.185194%\n",
      "IntraNukeNmfp  : 2.749892%\n",
      "IntraNukeNpi  : 2.785487%\n",
      "IntraNukePIabs  : 11.255261%\n",
      "IntraNukePIcex  : 7.326286%\n",
      "IntraNukePIel  : 0.871121%\n",
      "IntraNukePIinel  : 6.740055%\n",
      "IntraNukePImfp  : 3.207558%\n",
      "IntraNukePIpi  : 4.522333%\n",
      "NC  : 2.271039%\n",
      "NonResRvbarp1pi  : 10.276165%\n",
      "NonResRvbarppi  : 14.664504%\n",
      "NonResRvp1pi  : 10.716795%\n",
      "NonResRvppi  : 1.317553%\n",
      "ResDecayEta  : 3.470864%\n",
      "ResDecayGamma  : 1.256129%\n",
      "ResDecayTheta  : 7.221443%\n",
      "ccresAxial  : 9.637641%\n",
      "ccresVector  : 11.203330%\n",
      "cohMA  : 2.994342%\n",
      "cohR0  : 2.026208%\n",
      "ncelAxial  : 0.846697%\n",
      "ncelEta  : 0.380202%\n",
      "ncresAxial  : 0.222717%\n",
      "ncresVector  : 10.485523%\n",
      "qema  : 11.359938%\n",
      "qevec  : 11.853874%\n"
     ]
    }
   ],
   "source": [
    "for i in xrange(len(gen_v)):\n",
    "    print gen_v[i], \" : %.6f%%\" % (max(percent_plus[i]*100,percent_min[i]*100))"
   ]
  },
  {
   "cell_type": "code",
   "execution_count": 11,
   "metadata": {
    "collapsed": true
   },
   "outputs": [],
   "source": [
    "# HOLD EFFICIENCY CONSTANT AT NOMINAL\n",
    "#diff_min_v = np.array(nom_v) - np.array(bkgd_min_v)\n",
    "#diff_plus_v = np.array(nom_v) - np.array(bkgd_plus_v)\n",
    "xsec_plus_v = diff_plus_v / eff_nom_v\n",
    "xsec_min_v = diff_min_v / eff_nom_v\n",
    "percent_plus = abs(xsec_nom_v - xsec_plus_v)/xsec_nom_v\n",
    "percent_min = abs(xsec_nom_v - xsec_min_v)/xsec_nom_v"
   ]
  },
  {
   "cell_type": "code",
   "execution_count": 12,
   "metadata": {
    "collapsed": false
   },
   "outputs": [
    {
     "name": "stdout",
     "output_type": "stream",
     "text": [
      "FermiGasModelKf  : 0.242857%\n",
      "FermiGasModelSf  : 0.180124%\n",
      "IntraNukeNabs  : 0.000000%\n",
      "IntraNukeNcex  : 0.808696%\n",
      "IntraNukeNel  : 0.808696%\n",
      "IntraNukeNinel  : 0.800932%\n",
      "IntraNukeNmfp  : 0.516149%\n",
      "IntraNukeNpi  : 0.402174%\n",
      "IntraNukePIabs  : 0.402174%\n",
      "IntraNukePIcex  : 0.562112%\n",
      "IntraNukePIel  : 0.642857%\n",
      "IntraNukePIinel  : 3.006211%\n",
      "IntraNukePImfp  : 3.006211%\n",
      "IntraNukePIpi  : 2.437578%\n",
      "NC  : 0.546273%\n",
      "NonResRvbarp1pi  : 3.822050%\n",
      "NonResRvbarppi  : 4.233851%\n",
      "NonResRvp1pi  : 4.233851%\n",
      "NonResRvppi  : 0.114596%\n",
      "ResDecayEta  : 0.225466%\n",
      "ResDecayGamma  : 0.225466%\n",
      "ResDecayTheta  : 4.022981%\n",
      "ccresAxial  : 4.022981%\n",
      "ccresVector  : 3.201553%\n",
      "cohMA  : 1.762112%\n",
      "cohR0  : 1.595963%\n",
      "ncelAxial  : 0.514596%\n",
      "ncelEta  : 0.514596%\n",
      "ncresAxial  : 0.000000%\n",
      "ncresVector  : 2.484472%\n",
      "qema  : 2.484472%\n",
      "qevec  : 2.484472%\n"
     ]
    }
   ],
   "source": [
    "for i in xrange(len(gen_v)):\n",
    "    print gen_v[i], \" : %.6f%%\" % (max(percent_plus[i]*100,percent_min[i]*100))"
   ]
  },
  {
   "cell_type": "code",
   "execution_count": 13,
   "metadata": {
    "collapsed": true
   },
   "outputs": [],
   "source": [
    "# HOLD BACKGROUNDS CONSTANT AT NOMINAL\n",
    "diff_min_v = np.array(nom_v) - np.array(bkgd_nom_v)\n",
    "diff_plus_v = np.array(nom_v) - np.array(bkgd_nom_v)\n",
    "\n",
    "xsec_plus_v = diff_plus_v / eff_plus_v\n",
    "xsec_min_v = diff_min_v / eff_min_v\n",
    "\n",
    "percent_plus = abs(xsec_nom_v - xsec_plus_v)/xsec_nom_v\n",
    "percent_min = abs(xsec_nom_v - xsec_min_v)/xsec_nom_v"
   ]
  },
  {
   "cell_type": "code",
   "execution_count": 14,
   "metadata": {
    "collapsed": false
   },
   "outputs": [
    {
     "name": "stdout",
     "output_type": "stream",
     "text": [
      "0.0682538190364 0.0670711152586\n",
      "0.0540506423866 0.0539441622338\n",
      "306.633 306.633\n",
      "280.693 280.693\n"
     ]
    }
   ],
   "source": [
    "print max(eff_plus_v), max(eff_min_v)\n",
    "print min(eff_plus_v), min(eff_min_v)\n",
    "\n",
    "print max(bkgd_plus_v), max(bkgd_min_v)\n",
    "print min(bkgd_plus_v), min(bkgd_min_v)"
   ]
  },
  {
   "cell_type": "code",
   "execution_count": 15,
   "metadata": {
    "collapsed": false
   },
   "outputs": [
    {
     "name": "stdout",
     "output_type": "stream",
     "text": [
      "FermiGasModelKf  : 0.394460%\n",
      "FermiGasModelSf  : 0.403352%\n",
      "IntraNukeNabs  : 0.414068%\n",
      "IntraNukeNcex  : 1.896029%\n",
      "IntraNukeNel  : 1.718911%\n",
      "IntraNukeNinel  : 2.403513%\n",
      "IntraNukeNmfp  : 3.123558%\n",
      "IntraNukeNpi  : 2.392937%\n",
      "IntraNukePIabs  : 10.896912%\n",
      "IntraNukePIcex  : 6.902328%\n",
      "IntraNukePIel  : 0.321404%\n",
      "IntraNukePIinel  : 3.849570%\n",
      "IntraNukePImfp  : 0.677859%\n",
      "IntraNukePIpi  : 2.035147%\n",
      "NC  : 1.734240%\n",
      "NonResRvbarp1pi  : 9.677028%\n",
      "NonResRvbarppi  : 10.443306%\n",
      "NonResRvp1pi  : 6.769557%\n",
      "NonResRvppi  : 1.204337%\n",
      "ResDecayEta  : 3.398292%\n",
      "ResDecayGamma  : 1.032992%\n",
      "ResDecayTheta  : 3.332528%\n",
      "ccresAxial  : 12.440892%\n",
      "ccresVector  : 7.987076%\n",
      "cohMA  : 1.254333%\n",
      "cohR0  : 0.423486%\n",
      "ncelAxial  : 0.336618%\n",
      "ncelEta  : 0.222717%\n",
      "ncresAxial  : 0.222717%\n",
      "ncresVector  : 8.204900%\n",
      "qema  : 8.660303%\n",
      "qevec  : 9.142265%\n"
     ]
    }
   ],
   "source": [
    "for i in xrange(len(gen_v)):\n",
    "    print gen_v[i], \" : %.6f%%\" % (max(percent_plus[i]*100,percent_min[i]*100))"
   ]
  },
  {
   "cell_type": "code",
   "execution_count": 5,
   "metadata": {
    "collapsed": true
   },
   "outputs": [],
   "source": [
    "test = [320.558, 324.899, 322, 322, 301.461, 342.715, 311.936, 328.831, 332.449, 311.507, \\\n",
    "        331.663, 316.372, 340.003, 299.603, 336.87, 307.13, 241.514, 392.64, 363.19, 294.069,\\\n",
    "        329.759, 315.831, 330.086, 313.414, 326.926, 320.846, 323.378, 321.347, 324, 322, 406,\\\n",
    "        266]\n",
    "\n",
    "test2 = [324.899, 322, 322, 301.461, 342.715, 311.936, 328.831, 332.449, 311.507, 331.663,\\\n",
    "         316.372, 340.003, 299.603, 336.87, 307.13, 241.514, 392.64, 363.19, 294.069, 329.759,\\\n",
    "         315.831, 330.086, 313.414, 326.926, 320.846, 323.378, 321.347, 324, 322, 406, 266,\\\n",
    "         340]\n",
    "\n",
    "test3 = [228.966, 231.431, 231, 231, 227.099, 235.787, 234.69, 230.699, 224.365, 235.001,\\\n",
    "         235.988, 229.123, 255.785, 217.662, 234.806, 227.194, 209.326, 267.62, 232.428,\\\n",
    "         230.763, 231.942, 230.386, 265.003, 216.068, 244.936, 219.667, 234.833, 227.084,\\\n",
    "         239, 231, 252, 217]\n",
    "\n",
    "test4 = [231.431, 231, 231, 227.099, 235.787, 234.69, 230.699, 224.365, 235.001, 235.988,\\\n",
    "         229.123, 255.785, 217.662, 234.806, 227.194, 209.326, 267.62, 232.428, 230.763,\\\n",
    "         231.942, 230.386, 265.003, 216.068, 244.936, 219.667, 234.833, 227.084, 239, 231,\\\n",
    "         252, 217, 250.5]"
   ]
  },
  {
   "cell_type": "code",
   "execution_count": null,
   "metadata": {
    "collapsed": true
   },
   "outputs": [],
   "source": []
  },
  {
   "cell_type": "code",
   "execution_count": 6,
   "metadata": {
    "collapsed": false
   },
   "outputs": [
    {
     "name": "stdout",
     "output_type": "stream",
     "text": [
      "[ 0.  0.  0.  0.  0.  0.  0.  0.  0.  0.  0.  0.  0.  0.  0.  0.  0.  0.\n",
      "  0.  0.  0.  0.  0.  0.  0.  0.  0.  0.  0.  0.  0.  0.]\n",
      "[ 0.  0.  0.  0.  0.  0.  0.  0.  0.  0.  0.  0.  0.  0.  0.  0.  0.  0.\n",
      "  0.  0.  0.  0.  0.  0.  0.  0.  0.  0.  0.  0.  0.  0.]\n",
      "[ 0.  0.  0.  0.  0.  0.  0.  0.  0.  0.  0.  0.  0.  0.  0.  0.  0.  0.\n",
      "  0.  0.  0.  0.  0.  0.  0.  0.  0.  0.  0.  0.  0.  0.]\n",
      "[ 0.  0.  0.  0.  0.  0.  0.  0.  0.  0.  0.  0.  0.  0.  0.  0.  0.  0.\n",
      "  0.  0.  0.  0.  0.  0.  0.  0.  0.  0.  0.  0.  0.  0.]\n"
     ]
    }
   ],
   "source": [
    "a = np.array(test)  - np.array(num_min_v)\n",
    "print a\n",
    "\n",
    "b = np.array(test2)  - np.array(num_plus_v)\n",
    "print b\n",
    "\n",
    "c = np.array(test3)  - np.array(bkgd_min_v)\n",
    "print c\n",
    "\n",
    "d = np.array(test4)  - np.array(bkgd_plus_v)\n",
    "print d"
   ]
  }
 ],
 "metadata": {
  "kernelspec": {
   "display_name": "Python 2",
   "language": "python",
   "name": "python2"
  },
  "language_info": {
   "codemirror_mode": {
    "name": "ipython",
    "version": 2
   },
   "file_extension": ".py",
   "mimetype": "text/x-python",
   "name": "python",
   "nbconvert_exporter": "python",
   "pygments_lexer": "ipython2",
   "version": "2.7.10"
  }
 },
 "nbformat": 4,
 "nbformat_minor": 0
}
